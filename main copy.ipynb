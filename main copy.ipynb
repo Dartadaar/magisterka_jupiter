{
 "cells": [
  {
   "cell_type": "markdown",
   "metadata": {},
   "source": [
    "# CONFIGURATION"
   ]
  },
  {
   "cell_type": "code",
   "execution_count": 2,
   "metadata": {
    "datalore": {
     "hide_input_from_viewers": true,
     "hide_output_from_viewers": true,
     "node_id": "qjYbxKYL79khAg2LaJVsju",
     "type": "CODE"
    }
   },
   "outputs": [],
   "source": [
    "import os\n",
    "import pandas as pd\n",
    "from openai import OpenAI\n",
    "import time\n",
    "import json\n",
    "import numpy as np\n",
    "\n",
    "# --- Configuration ---\n",
    "CSV_FOLDER = 'videos4/projfiles'\n",
    "CSV_FILE_MUSIC = os.path.join(CSV_FOLDER, 'input', 'youtube_comments_audio.csv')\n",
    "CSV_FILE_VIDEO = os.path.join(CSV_FOLDER, 'input', 'youtube_comments_video.csv')\n",
    "# CSV_FILE_SPORT = os.path.join(CSV_FOLDER, 'input', 'youtube_comments_sport.csv')\n",
    "CSV_FILE_BETTERVIDEO = os.path.join(CSV_FOLDER, 'input', 'youtube_comments_bettervideo.csv')\n",
    "CSV_FILE_PATH = os.path.join(CSV_FOLDER, 'youtube_comments.csv')\n",
    "EMBEDDED_CSV_PATH = os.path.join(CSV_FOLDER, 'youtube_comments_embeded.csv')\n",
    "CLUSTERED_CSV_PATH = os.path.join(CSV_FOLDER, 'youtube_comments_clustered.csv')\n",
    "LABELED_CSV_PATH = os.path.join(CSV_FOLDER, 'youtube_comments_labeled.csv')\n",
    "BATCH_FILE = \"batch_input.jsonl\"\n",
    "OPENAI_MODEL = \"text-embedding-3-large\"\n",
    "RATE_LIMIT_DELAY = 0.00  # in seconds\n",
    "\n",
    "# --- OpenAI Client ---\n",
    "client = OpenAI(api_key=os.getenv(\"OPENAI_API_KEY\"))"
   ]
  },
  {
   "cell_type": "code",
   "execution_count": 3,
   "metadata": {
    "datalore": {
     "hide_input_from_viewers": true,
     "hide_output_from_viewers": true,
     "node_id": "1iP4qsGQAOhE3cwUJ3OKMJ",
     "type": "CODE"
    }
   },
   "outputs": [],
   "source": [
    "def string_to_array(embedding_str):\n",
    "    \"\"\"Converts a string representation of an array to a NumPy array.\"\"\"\n",
    "    try:\n",
    "        # Remove brackets and split by comma\n",
    "        cleaned_str = embedding_str.strip('[]')\n",
    "        values = cleaned_str.split(',')\n",
    "        # Convert each value to float\n",
    "        return np.array([float(val.strip()) for val in values])\n",
    "    except:\n",
    "        return None  # Handle potential errors in parsing"
   ]
  },
  {
   "cell_type": "code",
   "execution_count": 4,
   "metadata": {
    "datalore": {
     "hide_input_from_viewers": true,
     "hide_output_from_viewers": true,
     "node_id": "zQEtoRoM8BDoQvKXhfSNXD",
     "type": "CODE"
    }
   },
   "outputs": [],
   "source": [
    "# Categories used for the labeling\n",
    "category_dict = {\n",
    "    \"Musical Performance\": 1,\n",
    "    \"Vocal Performance\": 2,\n",
    "    \"Music Quality/Production\": 3,\n",
    "\n",
    "    \"Visual Performance\": 4,\n",
    "    \"Stage Presence\": 5,\n",
    "    \"Gestures\": 6,\n",
    "    \"Movement/Choreography\": 7,\n",
    "\n",
    "    \"Technical Production\": 8,\n",
    "    \"Video Quality\": 9,\n",
    "    \"Camera Work\": 10,\n",
    "    \"Lighting/Light design\": 11,\n",
    "\n",
    "    \"Overall Impression - Positive\": 12,\n",
    "    \"Overall Impression - Negative\": 13,\n",
    "    \"Overall Impression - Neutral\": 14,\n",
    "\n",
    "    \"Visual elements described using musical terms\": 15,\n",
    "    \"Musical elements described using visual terms\": 16,\n",
    "\n",
    "    \"Engagement/Connection\": 17,\n",
    "    \"Personal Connection\": 18,\n",
    "    \"Artist Connection\": 19,\n",
    "\n",
    "    \"Olympic games\": 20,\n",
    "\n",
    "    \"Implicit Visual Influence\": 21,\n",
    "\n",
    "    \"Miscellaneous/Off-Topic\": 22\n",
    "}"
   ]
  },
  {
   "attachments": {},
   "cell_type": "markdown",
   "metadata": {
    "datalore": {
     "hide_input_from_viewers": false,
     "hide_output_from_viewers": false,
     "node_id": "combine",
     "sheet_delimiter": true,
     "type": "MD"
    }
   },
   "source": [
    "# Preprocess input"
   ]
  },
  {
   "cell_type": "code",
   "execution_count": 5,
   "metadata": {
    "datalore": {
     "hide_input_from_viewers": true,
     "hide_output_from_viewers": true,
     "node_id": "ZilPB7gC2BfZwMDG69am07",
     "type": "CODE"
    }
   },
   "outputs": [],
   "source": [
    "import csv"
   ]
  },
  {
   "cell_type": "code",
   "execution_count": 6,
   "metadata": {
    "datalore": {
     "hide_input_from_viewers": true,
     "hide_output_from_viewers": true,
     "node_id": "IAPgmCv9CJz5O6r4QJJTj6",
     "type": "CODE"
    }
   },
   "outputs": [],
   "source": [
    "df_music = pd.read_csv(CSV_FILE_MUSIC, sep='\\t', quoting=csv.QUOTE_ALL, quotechar='\"', encoding='utf-8')\n",
    "df_video = pd.read_csv(CSV_FILE_VIDEO, sep='\\t', quoting=csv.QUOTE_ALL, quotechar='\"', encoding='utf-8')\n",
    "#df_sport = pd.read_csv(CSV_FILE_SPORT, sep='\\t', quoting=csv.QUOTE_ALL, quotechar='\"', encoding='utf-8')\n",
    "df_bettervideo = pd.read_csv(CSV_FILE_BETTERVIDEO, sep='\\t', quoting=csv.QUOTE_ALL, quotechar='\"', encoding='utf-8')"
   ]
  },
  {
   "cell_type": "code",
   "execution_count": 7,
   "metadata": {
    "datalore": {
     "hide_input_from_viewers": true,
     "hide_output_from_viewers": true,
     "node_id": "Dh3oDlL0g8eKx9E5Kg9yAz",
     "type": "CODE"
    }
   },
   "outputs": [],
   "source": [
    "df_music['source_id'] = 1\n",
    "df_video['source_id'] = 2\n",
    "# df_sport['source_id'] = 2\n",
    "df_bettervideo['source_id'] = 3"
   ]
  },
  {
   "cell_type": "code",
   "execution_count": 8,
   "metadata": {
    "datalore": {
     "hide_input_from_viewers": true,
     "hide_output_from_viewers": true,
     "node_id": "EEYr7C4cboZKBx1RDyUzwE",
     "type": "CODE"
    }
   },
   "outputs": [],
   "source": [
    "df = pd.concat([df_music, df_video, df_bettervideo], ignore_index=True) #add df_sport if needed"
   ]
  },
  {
   "cell_type": "code",
   "execution_count": 9,
   "metadata": {
    "datalore": {
     "hide_input_from_viewers": true,
     "hide_output_from_viewers": true,
     "node_id": "Uvv8sugQAl4z0DHgFRNpaW",
     "type": "CODE"
    }
   },
   "outputs": [],
   "source": [
    "pd.DataFrame.to_csv(df, CSV_FILE_PATH)\n",
    "del df_music\n",
    "del df_video\n",
    "# del df_sport\n",
    "del df_bettervideo"
   ]
  },
  {
   "attachments": {},
   "cell_type": "markdown",
   "metadata": {
    "datalore": {
     "hide_input_from_viewers": false,
     "hide_output_from_viewers": false,
     "node_id": "Labeling",
     "sheet_delimiter": true,
     "type": "MD"
    }
   },
   "source": [
    "# Labeling"
   ]
  },
  {
   "cell_type": "code",
   "execution_count": 10,
   "metadata": {
    "datalore": {
     "hide_input_from_viewers": true,
     "hide_output_from_viewers": true,
     "node_id": "hCwGBaftHhnPSvoHySBVbu",
     "type": "CODE"
    }
   },
   "outputs": [
    {
     "name": "stderr",
     "output_type": "stream",
     "text": [
      "/var/folders/b5/hxjnqzqj32l4jyk_bkplnc9w0000gn/T/ipykernel_16566/3726769479.py:1: DtypeWarning: Columns (0) have mixed types. Specify dtype option on import or set low_memory=False.\n",
      "  df = pd.read_csv(CSV_FILE_PATH)\n"
     ]
    }
   ],
   "source": [
    "df = pd.read_csv(CSV_FILE_PATH)"
   ]
  },
  {
   "cell_type": "code",
   "execution_count": 11,
   "metadata": {
    "datalore": {
     "hide_input_from_viewers": true,
     "hide_output_from_viewers": true,
     "node_id": "p74sw6RuboI8Vut1JrFcuM",
     "type": "CODE"
    }
   },
   "outputs": [],
   "source": [
    "system_message = \"\"\"You are a comment classifier. Your task is to categorize comments based on a predefined set of categories and return their numerical IDs as a Python list. You must ONLY output a list of integers, and nothing else. Do not include any category names or other text in your response.\"\"\"\n",
    "\n",
    "user_template = \"\"\"\n",
    "Here are the categories and their IDs:\n",
    "{category_dict}\n",
    "\n",
    "Please read the comment below and identify all relevant categories.  Return ONLY the numerical IDs of the relevant categories as a Python list.\n",
    "\n",
    "**Instructions:**\n",
    "\n",
    "* **Identify Relevant Categories:** Determine which categories from the list above apply to the comment.\n",
    "* **Output Format:** Return ONLY a Python list containing the numerical IDs of the relevant categories. The list should look like this: `[ID1, ID2, ID3]` (e.g., `[1, 8]` or `[3]` or `[]`).\n",
    "* **Multiple Categories:** If multiple categories are relevant, include all their IDs in the list, separated by commas within the brackets.\n",
    "* **No Relevant Categories:** If no categories are relevant, return an empty list `[]`.\n",
    "* **Numerical IDs ONLY:**  Do NOT include category names or any other text in your response. Just the list of numerical IDs.\n",
    "\n",
    "**Example Outputs:**\n",
    "* For a comment belonging to categories 1 and 8: `[1, 8]`\n",
    "* For a comment belonging to category 3: `[3]`\n",
    "* For a comment belonging to no categories: `[]`\n",
    "\n",
    "**Comment Text:**\n",
    "{comment_text}\n",
    "\n",
    "Category(ies) ID:\n",
    "\"\"\""
   ]
  },
  {
   "cell_type": "code",
   "execution_count": 12,
   "metadata": {
    "datalore": {
     "hide_input_from_viewers": true,
     "hide_output_from_viewers": true,
     "node_id": "30WPH0vkJNmlwKMmb8LHYt",
     "type": "CODE"
    }
   },
   "outputs": [],
   "source": [
    "def create_batch_input_files(df, category_dict, user_template, max_comments_per_batch=15000):\n",
    "    \"\"\"Creates multiple JSONL files for Batch API input with comment limit per batch.\"\"\"\n",
    "    total_rows = len(df)\n",
    "    batch_files = []\n",
    "    \n",
    "    # Calculate number of batches needed based on max comments per batch\n",
    "    num_batches = (total_rows + max_comments_per_batch - 1) // max_comments_per_batch\n",
    "    \n",
    "    for batch_num in range(num_batches):\n",
    "        start_idx = batch_num * max_comments_per_batch\n",
    "        end_idx = min((batch_num + 1) * max_comments_per_batch, total_rows)\n",
    "        batch_filename = f\"batch_input_{batch_num + 1}.jsonl\"\n",
    "        \n",
    "        # Get batch subset of DataFrame\n",
    "        batch_df = df.iloc[start_idx:end_idx]\n",
    "        \n",
    "        print(f\"Creating batch {batch_num + 1}/{num_batches} with {len(batch_df)} comments\")\n",
    "        \n",
    "        with open(batch_filename, 'w') as f:\n",
    "            for index, row in batch_df.iterrows():\n",
    "                user_message = user_template.format(\n",
    "                    comment_text=row['comment_text'], \n",
    "                    category_dict=json.dumps(category_dict)\n",
    "                )\n",
    "                request_data = {\n",
    "                    \"custom_id\": str(index),\n",
    "                    \"method\": \"POST\",\n",
    "                    \"url\": \"/v1/chat/completions\",\n",
    "                    \"body\": {\n",
    "                        \"model\": \"gpt-4o-mini\",\n",
    "                        \"messages\": [\n",
    "                            {\"role\": \"system\", \"content\": system_message},\n",
    "                            {\"role\": \"user\", \"content\": user_message}\n",
    "                        ],\n",
    "                        \"temperature\": 0.3,\n",
    "                        \"seed\": 42\n",
    "                    }\n",
    "                }\n",
    "                f.write(json.dumps(request_data) + '\\n')\n",
    "        \n",
    "        batch_files.append(batch_filename)\n",
    "        print(f\"Created batch file: {batch_filename}\")\n",
    "    \n",
    "    return batch_files\n",
    "\n",
    "def process_batch_results(output_file_path):\n",
    "    \"\"\"Process the batch results from the output file and return as a dictionary.\"\"\"\n",
    "    results = {}\n",
    "    \n",
    "    with open(output_file_path, 'r') as f:\n",
    "        for line in f:\n",
    "            response_data = json.loads(line)\n",
    "            custom_id = response_data.get('custom_id')\n",
    "            \n",
    "            try:\n",
    "                # Navigate through the response structure\n",
    "                if ('response' in response_data and \n",
    "                    'body' in response_data['response']):\n",
    "                    \n",
    "                    # Parse the body as JSON\n",
    "                    body_str = response_data['response']['body']\n",
    "                    if isinstance(body_str, str):\n",
    "                        body = json.loads(body_str)\n",
    "                    else:\n",
    "                        body = body_str\n",
    "                    \n",
    "                    # Extract the content from the assistant's message\n",
    "                    if ('choices' in body and \n",
    "                        len(body['choices']) > 0 and \n",
    "                        'message' in body['choices'][0] and\n",
    "                        'content' in body['choices'][0]['message']):\n",
    "                        \n",
    "                        content = body['choices'][0]['message']['content']\n",
    "                        \n",
    "                        # Parse the content as a JSON array\n",
    "                        try:\n",
    "                            labels = json.loads(content)\n",
    "                            results[custom_id] = labels\n",
    "                        except json.JSONDecodeError:\n",
    "                            print(f\"Warning: Could not parse content as JSON for ID {custom_id}: {content}\")\n",
    "                            # If parsing fails, store the raw content\n",
    "                            results[custom_id] = content\n",
    "            except Exception as e:\n",
    "                print(f\"Error processing result for ID {custom_id}: {str(e)}\")\n",
    "    \n",
    "    print(f\"Processed {len(results)} results from batch\")\n",
    "    return results\n",
    "\n",
    "def process_batch_with_retries(client, batch_file, max_retries=3, retry_delay=60):\n",
    "    \"\"\"Process a single batch file with retries and better error handling.\"\"\"\n",
    "    print(f\"Processing batch file: {batch_file}\")\n",
    "    \n",
    "    for attempt in range(max_retries):\n",
    "        try:\n",
    "            # Upload batch file\n",
    "            with open(batch_file, \"rb\") as f:\n",
    "                response = client.files.create(file=f, purpose=\"batch\")\n",
    "            input_file_id = response.id\n",
    "            \n",
    "            # Create batch\n",
    "            batch_response = client.batches.create(\n",
    "                input_file_id=input_file_id,\n",
    "                endpoint=\"/v1/chat/completions\",\n",
    "                completion_window=\"24h\"\n",
    "            )\n",
    "            batch_id = batch_response.id\n",
    "            print(f\"Batch created with ID: {batch_id}\")\n",
    "            \n",
    "            # Monitor batch status\n",
    "            while True:\n",
    "                batch_status = client.batches.retrieve(batch_id)\n",
    "                print(f\"Batch status: {batch_status.status}\")\n",
    "                \n",
    "                if batch_status.status == \"completed\":\n",
    "                    output_file_id = batch_status.output_file_id\n",
    "                    output_file_response = client.files.content(output_file_id)\n",
    "                    output_file_path = f\"batch_output_{batch_id}.jsonl\"\n",
    "                    \n",
    "                    with open(output_file_path, 'w') as f:\n",
    "                        f.write(output_file_response.text)\n",
    "                    \n",
    "                    return process_batch_results(output_file_path)\n",
    "                \n",
    "                elif batch_status.status in [\"failed\", \"expired\", \"cancelled\"]:\n",
    "                    print(f\"Batch failed with status: {batch_status.status}\")\n",
    "                    if batch_status.error_file_id:\n",
    "                        error_file_response = client.files.content(batch_status.error_file_id)\n",
    "                        print(\"Error details:\", error_file_response.text)\n",
    "                    break\n",
    "                \n",
    "                time.sleep(60)  # Check every minute\n",
    "                \n",
    "        except Exception as e:\n",
    "            print(f\"Attempt {attempt + 1} failed with error: {str(e)}\")\n",
    "            if attempt < max_retries - 1:\n",
    "                print(f\"Retrying in {retry_delay} seconds...\")\n",
    "                time.sleep(retry_delay)\n",
    "            else:\n",
    "                print(\"Max retries reached. Moving to next batch.\")\n",
    "                return {}\n",
    "    \n",
    "    return {}\n",
    "\n",
    "def process_all_batches(df, category_dict, user_template, client):\n",
    "    \"\"\"Process all batches with progress tracking and error handling.\"\"\"\n",
    "    print(\"Starting batch processing...\")\n",
    "    \n",
    "    # Create batch files\n",
    "    batch_files = create_batch_input_files(df, category_dict, user_template)\n",
    "    all_results = {}\n",
    "    processed_batches = 0\n",
    "    total_batches = len(batch_files)\n",
    "    \n",
    "    # Process each batch\n",
    "    for batch_file in batch_files:\n",
    "        processed_batches += 1\n",
    "        print(f\"\\nProcessing batch {processed_batches}/{total_batches}\")\n",
    "        \n",
    "        batch_results = process_batch_with_retries(client, batch_file)\n",
    "        all_results.update(batch_results)\n",
    "        \n",
    "        # Save intermediate results\n",
    "        intermediate_df = df.copy()\n",
    "        intermediate_df['comment_labels'] = intermediate_df.index.map(lambda x: all_results.get(str(x), []))\n",
    "        intermediate_df.to_csv(f\"intermediate_results_{processed_batches}.csv\")\n",
    "        print(f\"Saved intermediate results to: intermediate_results_{processed_batches}.csv\")\n",
    "    \n",
    "    return all_results"
   ]
  },
  {
   "cell_type": "code",
   "execution_count": 13,
   "metadata": {},
   "outputs": [
    {
     "name": "stdout",
     "output_type": "stream",
     "text": [
      "Starting batch processing...\n",
      "Creating batch 1/10 with 15000 comments\n",
      "Created batch file: batch_input_1.jsonl\n",
      "Creating batch 2/10 with 15000 comments\n",
      "Created batch file: batch_input_2.jsonl\n",
      "Creating batch 3/10 with 15000 comments\n",
      "Created batch file: batch_input_3.jsonl\n",
      "Creating batch 4/10 with 15000 comments\n",
      "Created batch file: batch_input_4.jsonl\n",
      "Creating batch 5/10 with 15000 comments\n",
      "Created batch file: batch_input_5.jsonl\n",
      "Creating batch 6/10 with 15000 comments\n",
      "Created batch file: batch_input_6.jsonl\n",
      "Creating batch 7/10 with 15000 comments\n",
      "Created batch file: batch_input_7.jsonl\n",
      "Creating batch 8/10 with 15000 comments\n",
      "Created batch file: batch_input_8.jsonl\n",
      "Creating batch 9/10 with 15000 comments\n",
      "Created batch file: batch_input_9.jsonl\n",
      "Creating batch 10/10 with 9444 comments\n",
      "Created batch file: batch_input_10.jsonl\n",
      "\n",
      "Processing batch 1/10\n",
      "Processing batch file: batch_input_1.jsonl\n",
      "Batch created with ID: batch_67d6ad3b09c0819090f0c8ec55bb6d1b\n",
      "Batch status: validating\n",
      "Batch status: in_progress\n",
      "Batch status: in_progress\n",
      "Batch status: in_progress\n",
      "Batch status: in_progress\n",
      "Batch status: in_progress\n",
      "Batch status: in_progress\n",
      "Batch status: in_progress\n",
      "Batch status: in_progress\n",
      "Batch status: in_progress\n",
      "Batch status: in_progress\n",
      "Batch status: in_progress\n",
      "Batch status: in_progress\n",
      "Batch status: in_progress\n",
      "Batch status: in_progress\n",
      "Batch status: in_progress\n",
      "Batch status: in_progress\n",
      "Batch status: in_progress\n",
      "Batch status: in_progress\n",
      "Batch status: in_progress\n",
      "Batch status: in_progress\n",
      "Batch status: in_progress\n",
      "Batch status: in_progress\n",
      "Batch status: in_progress\n",
      "Batch status: in_progress\n",
      "Batch status: in_progress\n",
      "Batch status: in_progress\n",
      "Batch status: in_progress\n",
      "Batch status: in_progress\n",
      "Batch status: in_progress\n",
      "Batch status: in_progress\n",
      "Batch status: in_progress\n",
      "Batch status: in_progress\n",
      "Batch status: in_progress\n",
      "Batch status: in_progress\n",
      "Batch status: in_progress\n",
      "Batch status: in_progress\n",
      "Batch status: in_progress\n",
      "Batch status: in_progress\n",
      "Batch status: in_progress\n",
      "Batch status: in_progress\n",
      "Batch status: in_progress\n",
      "Batch status: in_progress\n",
      "Batch status: in_progress\n",
      "Batch status: in_progress\n",
      "Batch status: in_progress\n",
      "Batch status: in_progress\n",
      "Batch status: in_progress\n",
      "Batch status: in_progress\n",
      "Batch status: in_progress\n",
      "Batch status: in_progress\n",
      "Batch status: in_progress\n",
      "Batch status: in_progress\n",
      "Batch status: in_progress\n",
      "Batch status: in_progress\n",
      "Batch status: in_progress\n",
      "Batch status: in_progress\n",
      "Batch status: in_progress\n",
      "Batch status: in_progress\n",
      "Batch status: in_progress\n",
      "Batch status: in_progress\n",
      "Batch status: in_progress\n",
      "Batch status: in_progress\n",
      "Batch status: in_progress\n",
      "Batch status: in_progress\n",
      "Batch status: in_progress\n",
      "Batch status: in_progress\n",
      "Batch status: in_progress\n",
      "Batch status: in_progress\n",
      "Batch status: in_progress\n",
      "Batch status: in_progress\n",
      "Batch status: in_progress\n",
      "Batch status: in_progress\n",
      "Batch status: in_progress\n",
      "Batch status: in_progress\n",
      "Batch status: in_progress\n",
      "Batch status: in_progress\n",
      "Batch status: in_progress\n",
      "Batch status: in_progress\n",
      "Batch status: in_progress\n",
      "Batch status: in_progress\n",
      "Batch status: in_progress\n",
      "Batch status: in_progress\n",
      "Batch status: in_progress\n",
      "Batch status: in_progress\n",
      "Batch status: in_progress\n",
      "Batch status: in_progress\n",
      "Batch status: in_progress\n",
      "Batch status: in_progress\n",
      "Batch status: in_progress\n",
      "Batch status: in_progress\n",
      "Batch status: in_progress\n",
      "Batch status: in_progress\n",
      "Batch status: in_progress\n",
      "Batch status: in_progress\n",
      "Batch status: in_progress\n",
      "Batch status: in_progress\n",
      "Batch status: in_progress\n",
      "Batch status: in_progress\n",
      "Batch status: in_progress\n",
      "Batch status: in_progress\n",
      "Batch status: in_progress\n",
      "Batch status: in_progress\n",
      "Batch status: in_progress\n",
      "Batch status: finalizing\n",
      "Batch status: finalizing\n",
      "Batch status: finalizing\n",
      "Batch status: finalizing\n",
      "Batch status: finalizing\n",
      "Batch status: finalizing\n",
      "Batch status: finalizing\n",
      "Batch status: finalizing\n",
      "Batch status: finalizing\n",
      "Batch status: finalizing\n",
      "Batch status: finalizing\n",
      "Batch status: finalizing\n",
      "Batch status: finalizing\n",
      "Batch status: finalizing\n",
      "Batch status: finalizing\n",
      "Batch status: finalizing\n",
      "Batch status: finalizing\n",
      "Batch status: finalizing\n",
      "Batch status: finalizing\n",
      "Batch status: finalizing\n",
      "Batch status: finalizing\n",
      "Batch status: finalizing\n",
      "Batch status: finalizing\n",
      "Batch status: finalizing\n",
      "Batch status: finalizing\n",
      "Batch status: finalizing\n",
      "Batch status: finalizing\n",
      "Batch status: completed\n",
      "Processed 15000 results from batch\n",
      "Saved intermediate results to: intermediate_results_1.csv\n",
      "\n",
      "Processing batch 2/10\n",
      "Processing batch file: batch_input_2.jsonl\n",
      "Batch created with ID: batch_67d6cc2633e881909bcf56ad1ccaf0a2\n",
      "Batch status: validating\n",
      "Batch status: in_progress\n",
      "Batch status: in_progress\n",
      "Batch status: in_progress\n",
      "Batch status: in_progress\n",
      "Batch status: in_progress\n",
      "Batch status: in_progress\n",
      "Batch status: in_progress\n",
      "Batch status: in_progress\n",
      "Batch status: in_progress\n",
      "Batch status: in_progress\n",
      "Batch status: in_progress\n",
      "Batch status: in_progress\n",
      "Batch status: in_progress\n",
      "Batch status: in_progress\n",
      "Batch status: in_progress\n",
      "Batch status: in_progress\n",
      "Batch status: in_progress\n",
      "Batch status: in_progress\n",
      "Batch status: in_progress\n",
      "Batch status: in_progress\n",
      "Batch status: in_progress\n",
      "Batch status: in_progress\n",
      "Batch status: in_progress\n",
      "Batch status: in_progress\n",
      "Batch status: in_progress\n",
      "Batch status: in_progress\n",
      "Batch status: in_progress\n",
      "Batch status: in_progress\n",
      "Batch status: in_progress\n",
      "Batch status: in_progress\n",
      "Batch status: in_progress\n",
      "Batch status: in_progress\n",
      "Batch status: in_progress\n",
      "Batch status: in_progress\n",
      "Batch status: in_progress\n",
      "Batch status: in_progress\n",
      "Batch status: in_progress\n",
      "Batch status: in_progress\n",
      "Batch status: in_progress\n",
      "Batch status: in_progress\n",
      "Batch status: in_progress\n",
      "Batch status: in_progress\n",
      "Batch status: in_progress\n",
      "Batch status: in_progress\n",
      "Batch status: in_progress\n",
      "Batch status: in_progress\n",
      "Batch status: in_progress\n",
      "Batch status: in_progress\n",
      "Batch status: in_progress\n",
      "Batch status: in_progress\n",
      "Batch status: in_progress\n",
      "Batch status: in_progress\n",
      "Batch status: in_progress\n",
      "Batch status: in_progress\n",
      "Batch status: in_progress\n",
      "Batch status: in_progress\n",
      "Batch status: in_progress\n",
      "Batch status: in_progress\n",
      "Batch status: in_progress\n",
      "Batch status: in_progress\n",
      "Batch status: in_progress\n",
      "Batch status: in_progress\n",
      "Batch status: in_progress\n",
      "Batch status: in_progress\n",
      "Batch status: in_progress\n",
      "Batch status: in_progress\n",
      "Batch status: in_progress\n",
      "Batch status: in_progress\n",
      "Batch status: in_progress\n",
      "Batch status: in_progress\n",
      "Batch status: finalizing\n",
      "Batch status: finalizing\n",
      "Batch status: finalizing\n",
      "Batch status: finalizing\n",
      "Batch status: finalizing\n",
      "Batch status: finalizing\n",
      "Batch status: finalizing\n",
      "Batch status: finalizing\n",
      "Batch status: finalizing\n",
      "Batch status: finalizing\n",
      "Batch status: finalizing\n",
      "Batch status: finalizing\n",
      "Batch status: finalizing\n",
      "Batch status: finalizing\n",
      "Batch status: finalizing\n",
      "Batch status: finalizing\n",
      "Batch status: finalizing\n",
      "Batch status: finalizing\n",
      "Batch status: finalizing\n",
      "Batch status: finalizing\n",
      "Batch status: finalizing\n",
      "Batch status: finalizing\n",
      "Batch status: finalizing\n",
      "Batch status: finalizing\n",
      "Batch status: finalizing\n",
      "Batch status: finalizing\n",
      "Batch status: completed\n",
      "Processed 15000 results from batch\n",
      "Saved intermediate results to: intermediate_results_2.csv\n",
      "\n",
      "Processing batch 3/10\n",
      "Processing batch file: batch_input_3.jsonl\n",
      "Batch created with ID: batch_67d6e3126b94819089568b35306ac372\n",
      "Batch status: validating\n",
      "Batch status: in_progress\n",
      "Batch status: in_progress\n",
      "Batch status: in_progress\n",
      "Batch status: in_progress\n",
      "Batch status: in_progress\n",
      "Batch status: in_progress\n",
      "Batch status: in_progress\n",
      "Batch status: in_progress\n",
      "Batch status: in_progress\n",
      "Batch status: in_progress\n",
      "Batch status: in_progress\n",
      "Batch status: in_progress\n",
      "Batch status: in_progress\n",
      "Batch status: in_progress\n",
      "Batch status: in_progress\n",
      "Batch status: in_progress\n",
      "Batch status: in_progress\n",
      "Batch status: in_progress\n",
      "Batch status: in_progress\n",
      "Batch status: in_progress\n",
      "Batch status: in_progress\n",
      "Batch status: in_progress\n",
      "Batch status: in_progress\n",
      "Batch status: in_progress\n",
      "Batch status: in_progress\n",
      "Batch status: in_progress\n",
      "Batch status: in_progress\n",
      "Batch status: in_progress\n",
      "Batch status: in_progress\n",
      "Batch status: in_progress\n",
      "Batch status: in_progress\n",
      "Batch status: in_progress\n",
      "Batch status: in_progress\n",
      "Batch status: in_progress\n",
      "Batch status: in_progress\n",
      "Batch status: in_progress\n",
      "Batch status: in_progress\n",
      "Batch status: in_progress\n",
      "Batch status: in_progress\n",
      "Batch status: in_progress\n",
      "Batch status: in_progress\n",
      "Batch status: in_progress\n",
      "Batch status: in_progress\n",
      "Batch status: in_progress\n",
      "Batch status: in_progress\n",
      "Batch status: in_progress\n",
      "Batch status: in_progress\n",
      "Batch status: in_progress\n",
      "Batch status: in_progress\n",
      "Batch status: in_progress\n",
      "Batch status: in_progress\n",
      "Batch status: in_progress\n",
      "Batch status: in_progress\n",
      "Batch status: in_progress\n",
      "Batch status: in_progress\n",
      "Batch status: in_progress\n",
      "Batch status: in_progress\n",
      "Batch status: in_progress\n",
      "Batch status: in_progress\n",
      "Batch status: in_progress\n",
      "Batch status: in_progress\n",
      "Batch status: in_progress\n",
      "Batch status: in_progress\n",
      "Batch status: in_progress\n",
      "Batch status: in_progress\n",
      "Batch status: in_progress\n",
      "Batch status: in_progress\n",
      "Batch status: in_progress\n",
      "Batch status: in_progress\n",
      "Batch status: in_progress\n",
      "Batch status: in_progress\n",
      "Batch status: in_progress\n",
      "Batch status: finalizing\n",
      "Batch status: finalizing\n",
      "Batch status: finalizing\n",
      "Batch status: finalizing\n",
      "Batch status: finalizing\n",
      "Batch status: finalizing\n",
      "Batch status: finalizing\n",
      "Batch status: finalizing\n",
      "Batch status: finalizing\n",
      "Batch status: finalizing\n",
      "Batch status: finalizing\n",
      "Batch status: finalizing\n",
      "Batch status: finalizing\n",
      "Batch status: finalizing\n",
      "Batch status: finalizing\n",
      "Batch status: finalizing\n",
      "Batch status: finalizing\n",
      "Batch status: finalizing\n",
      "Batch status: finalizing\n",
      "Batch status: finalizing\n",
      "Batch status: finalizing\n",
      "Batch status: finalizing\n",
      "Batch status: finalizing\n",
      "Batch status: finalizing\n",
      "Batch status: finalizing\n",
      "Batch status: finalizing\n",
      "Batch status: finalizing\n",
      "Batch status: finalizing\n",
      "Batch status: finalizing\n",
      "Batch status: completed\n",
      "Processed 15000 results from batch\n",
      "Saved intermediate results to: intermediate_results_3.csv\n",
      "\n",
      "Processing batch 4/10\n",
      "Processing batch file: batch_input_4.jsonl\n",
      "Batch created with ID: batch_67d6fb77a33c8190b61c1b0f9872b565\n",
      "Batch status: validating\n",
      "Batch status: in_progress\n",
      "Batch status: in_progress\n",
      "Batch status: in_progress\n",
      "Batch status: in_progress\n",
      "Batch status: in_progress\n",
      "Batch status: in_progress\n",
      "Batch status: in_progress\n",
      "Batch status: in_progress\n",
      "Batch status: in_progress\n",
      "Batch status: in_progress\n",
      "Batch status: in_progress\n",
      "Batch status: in_progress\n",
      "Batch status: in_progress\n",
      "Batch status: in_progress\n",
      "Batch status: in_progress\n",
      "Batch status: in_progress\n",
      "Batch status: in_progress\n",
      "Batch status: in_progress\n",
      "Batch status: in_progress\n",
      "Batch status: in_progress\n",
      "Batch status: in_progress\n",
      "Batch status: in_progress\n",
      "Batch status: in_progress\n",
      "Batch status: in_progress\n",
      "Batch status: in_progress\n",
      "Batch status: in_progress\n",
      "Batch status: in_progress\n",
      "Batch status: in_progress\n",
      "Batch status: in_progress\n",
      "Batch status: in_progress\n",
      "Batch status: in_progress\n",
      "Batch status: in_progress\n",
      "Batch status: in_progress\n",
      "Batch status: in_progress\n",
      "Batch status: in_progress\n",
      "Batch status: in_progress\n",
      "Batch status: in_progress\n",
      "Batch status: in_progress\n",
      "Batch status: in_progress\n",
      "Batch status: in_progress\n",
      "Batch status: in_progress\n",
      "Batch status: in_progress\n",
      "Batch status: in_progress\n",
      "Batch status: in_progress\n",
      "Batch status: in_progress\n",
      "Batch status: in_progress\n",
      "Batch status: in_progress\n",
      "Batch status: in_progress\n",
      "Batch status: in_progress\n",
      "Batch status: in_progress\n",
      "Batch status: finalizing\n",
      "Batch status: finalizing\n",
      "Batch status: finalizing\n",
      "Batch status: finalizing\n",
      "Batch status: finalizing\n",
      "Batch status: finalizing\n",
      "Batch status: finalizing\n",
      "Batch status: finalizing\n",
      "Batch status: finalizing\n",
      "Batch status: finalizing\n",
      "Batch status: finalizing\n",
      "Batch status: finalizing\n",
      "Batch status: finalizing\n",
      "Batch status: finalizing\n",
      "Batch status: finalizing\n",
      "Batch status: finalizing\n",
      "Batch status: finalizing\n",
      "Batch status: finalizing\n",
      "Batch status: finalizing\n",
      "Batch status: finalizing\n",
      "Batch status: finalizing\n",
      "Batch status: finalizing\n",
      "Batch status: finalizing\n",
      "Batch status: finalizing\n",
      "Batch status: finalizing\n",
      "Batch status: completed\n",
      "Processed 15000 results from batch\n",
      "Saved intermediate results to: intermediate_results_4.csv\n",
      "\n",
      "Processing batch 5/10\n",
      "Processing batch file: batch_input_5.jsonl\n",
      "Batch created with ID: batch_67d70d69e5d081909f3c45f5f9edd7e1\n",
      "Batch status: validating\n",
      "Batch status: in_progress\n",
      "Batch status: in_progress\n",
      "Batch status: in_progress\n",
      "Batch status: in_progress\n",
      "Batch status: in_progress\n",
      "Batch status: in_progress\n",
      "Batch status: in_progress\n",
      "Batch status: in_progress\n",
      "Batch status: in_progress\n",
      "Batch status: in_progress\n",
      "Batch status: in_progress\n",
      "Batch status: in_progress\n",
      "Batch status: in_progress\n",
      "Batch status: in_progress\n",
      "Batch status: in_progress\n",
      "Batch status: in_progress\n",
      "Batch status: in_progress\n",
      "Batch status: in_progress\n",
      "Batch status: in_progress\n",
      "Batch status: in_progress\n",
      "Batch status: in_progress\n",
      "Batch status: in_progress\n",
      "Batch status: in_progress\n",
      "Batch status: in_progress\n",
      "Batch status: in_progress\n",
      "Batch status: in_progress\n",
      "Batch status: in_progress\n",
      "Batch status: in_progress\n",
      "Batch status: in_progress\n",
      "Batch status: in_progress\n",
      "Batch status: in_progress\n",
      "Batch status: in_progress\n",
      "Batch status: in_progress\n",
      "Batch status: in_progress\n",
      "Batch status: in_progress\n",
      "Batch status: in_progress\n",
      "Batch status: in_progress\n",
      "Batch status: in_progress\n",
      "Batch status: in_progress\n",
      "Batch status: in_progress\n",
      "Batch status: in_progress\n",
      "Batch status: in_progress\n",
      "Batch status: in_progress\n",
      "Batch status: in_progress\n",
      "Batch status: in_progress\n",
      "Batch status: in_progress\n",
      "Batch status: in_progress\n",
      "Batch status: in_progress\n",
      "Batch status: in_progress\n",
      "Batch status: in_progress\n",
      "Batch status: in_progress\n",
      "Batch status: in_progress\n",
      "Batch status: in_progress\n",
      "Batch status: in_progress\n",
      "Batch status: in_progress\n",
      "Batch status: in_progress\n",
      "Batch status: in_progress\n",
      "Batch status: in_progress\n",
      "Batch status: in_progress\n",
      "Batch status: in_progress\n",
      "Batch status: in_progress\n",
      "Batch status: in_progress\n",
      "Batch status: in_progress\n",
      "Batch status: in_progress\n",
      "Batch status: in_progress\n",
      "Batch status: in_progress\n",
      "Batch status: in_progress\n",
      "Batch status: in_progress\n",
      "Batch status: in_progress\n",
      "Batch status: in_progress\n",
      "Batch status: in_progress\n",
      "Batch status: in_progress\n",
      "Batch status: in_progress\n",
      "Batch status: in_progress\n",
      "Batch status: in_progress\n",
      "Batch status: in_progress\n",
      "Batch status: in_progress\n",
      "Batch status: in_progress\n",
      "Batch status: in_progress\n",
      "Batch status: in_progress\n",
      "Batch status: in_progress\n",
      "Batch status: in_progress\n",
      "Batch status: in_progress\n",
      "Batch status: in_progress\n",
      "Batch status: in_progress\n",
      "Batch status: in_progress\n",
      "Batch status: in_progress\n",
      "Batch status: in_progress\n",
      "Batch status: in_progress\n",
      "Batch status: in_progress\n",
      "Batch status: in_progress\n",
      "Batch status: in_progress\n",
      "Batch status: in_progress\n",
      "Batch status: in_progress\n",
      "Batch status: in_progress\n",
      "Batch status: in_progress\n",
      "Batch status: in_progress\n",
      "Batch status: in_progress\n",
      "Batch status: in_progress\n",
      "Batch status: in_progress\n",
      "Batch status: in_progress\n",
      "Batch status: in_progress\n",
      "Batch status: in_progress\n",
      "Batch status: in_progress\n",
      "Batch status: in_progress\n",
      "Batch status: in_progress\n",
      "Batch status: in_progress\n",
      "Batch status: in_progress\n",
      "Batch status: in_progress\n",
      "Batch status: in_progress\n",
      "Batch status: in_progress\n",
      "Batch status: in_progress\n",
      "Batch status: in_progress\n",
      "Batch status: in_progress\n",
      "Batch status: in_progress\n",
      "Batch status: in_progress\n",
      "Batch status: in_progress\n",
      "Batch status: in_progress\n",
      "Batch status: in_progress\n",
      "Batch status: in_progress\n",
      "Batch status: in_progress\n",
      "Batch status: finalizing\n",
      "Batch status: finalizing\n",
      "Batch status: finalizing\n",
      "Batch status: finalizing\n",
      "Batch status: finalizing\n",
      "Batch status: finalizing\n",
      "Batch status: finalizing\n",
      "Batch status: finalizing\n",
      "Batch status: finalizing\n",
      "Batch status: finalizing\n",
      "Batch status: finalizing\n",
      "Batch status: finalizing\n",
      "Batch status: finalizing\n",
      "Batch status: finalizing\n",
      "Batch status: finalizing\n",
      "Batch status: finalizing\n",
      "Batch status: finalizing\n",
      "Batch status: finalizing\n",
      "Batch status: finalizing\n",
      "Batch status: finalizing\n",
      "Batch status: finalizing\n",
      "Batch status: finalizing\n",
      "Batch status: finalizing\n",
      "Batch status: finalizing\n",
      "Batch status: finalizing\n",
      "Batch status: finalizing\n",
      "Batch status: finalizing\n",
      "Batch status: finalizing\n",
      "Batch status: completed\n",
      "Processed 15000 results from batch\n",
      "Saved intermediate results to: intermediate_results_5.csv\n",
      "\n",
      "Processing batch 6/10\n",
      "Processing batch file: batch_input_6.jsonl\n",
      "Batch created with ID: batch_67d730cb1da88190a07684732dcc51d9\n",
      "Batch status: validating\n",
      "Batch status: in_progress\n",
      "Batch status: in_progress\n",
      "Batch status: in_progress\n",
      "Batch status: in_progress\n",
      "Batch status: in_progress\n",
      "Batch status: in_progress\n",
      "Batch status: in_progress\n",
      "Batch status: in_progress\n",
      "Batch status: in_progress\n",
      "Batch status: in_progress\n",
      "Batch status: in_progress\n",
      "Batch status: in_progress\n",
      "Batch status: in_progress\n",
      "Batch status: in_progress\n",
      "Batch status: in_progress\n",
      "Batch status: in_progress\n",
      "Batch status: in_progress\n",
      "Batch status: in_progress\n",
      "Batch status: in_progress\n",
      "Batch status: in_progress\n",
      "Batch status: in_progress\n",
      "Batch status: in_progress\n",
      "Batch status: in_progress\n",
      "Batch status: in_progress\n",
      "Batch status: in_progress\n",
      "Batch status: in_progress\n",
      "Batch status: in_progress\n",
      "Batch status: in_progress\n",
      "Batch status: in_progress\n",
      "Batch status: in_progress\n",
      "Batch status: in_progress\n",
      "Batch status: in_progress\n",
      "Batch status: in_progress\n",
      "Batch status: in_progress\n",
      "Batch status: in_progress\n",
      "Batch status: in_progress\n",
      "Batch status: in_progress\n",
      "Batch status: in_progress\n",
      "Batch status: in_progress\n",
      "Batch status: in_progress\n",
      "Batch status: in_progress\n",
      "Batch status: in_progress\n",
      "Batch status: in_progress\n",
      "Batch status: in_progress\n",
      "Batch status: in_progress\n",
      "Batch status: in_progress\n",
      "Batch status: in_progress\n",
      "Batch status: in_progress\n",
      "Batch status: in_progress\n",
      "Batch status: in_progress\n",
      "Batch status: in_progress\n",
      "Batch status: in_progress\n",
      "Batch status: in_progress\n",
      "Batch status: in_progress\n",
      "Batch status: in_progress\n",
      "Batch status: in_progress\n",
      "Batch status: in_progress\n",
      "Batch status: in_progress\n",
      "Batch status: in_progress\n",
      "Batch status: in_progress\n",
      "Batch status: in_progress\n",
      "Batch status: finalizing\n",
      "Batch status: finalizing\n",
      "Batch status: finalizing\n",
      "Batch status: finalizing\n",
      "Batch status: finalizing\n",
      "Batch status: finalizing\n",
      "Batch status: finalizing\n",
      "Batch status: finalizing\n",
      "Batch status: finalizing\n",
      "Batch status: finalizing\n",
      "Batch status: finalizing\n",
      "Batch status: finalizing\n",
      "Batch status: finalizing\n",
      "Batch status: finalizing\n",
      "Batch status: finalizing\n",
      "Batch status: finalizing\n",
      "Batch status: finalizing\n",
      "Batch status: finalizing\n",
      "Batch status: finalizing\n",
      "Batch status: finalizing\n",
      "Batch status: completed\n",
      "Processed 15000 results from batch\n",
      "Saved intermediate results to: intermediate_results_6.csv\n",
      "\n",
      "Processing batch 7/10\n",
      "Processing batch file: batch_input_7.jsonl\n",
      "Batch created with ID: batch_67d7442730cc819094232acae1035629\n",
      "Batch status: validating\n",
      "Batch status: in_progress\n",
      "Batch status: in_progress\n",
      "Batch status: in_progress\n",
      "Batch status: in_progress\n",
      "Batch status: in_progress\n",
      "Batch status: in_progress\n",
      "Batch status: in_progress\n",
      "Batch status: in_progress\n",
      "Batch status: in_progress\n",
      "Batch status: in_progress\n",
      "Batch status: in_progress\n",
      "Batch status: in_progress\n",
      "Batch status: in_progress\n",
      "Batch status: in_progress\n",
      "Batch status: in_progress\n",
      "Batch status: in_progress\n",
      "Batch status: in_progress\n",
      "Batch status: in_progress\n",
      "Batch status: in_progress\n",
      "Batch status: in_progress\n",
      "Batch status: in_progress\n",
      "Batch status: in_progress\n",
      "Batch status: in_progress\n",
      "Batch status: in_progress\n",
      "Batch status: in_progress\n",
      "Batch status: in_progress\n",
      "Batch status: in_progress\n",
      "Batch status: in_progress\n",
      "Batch status: in_progress\n",
      "Batch status: in_progress\n",
      "Batch status: in_progress\n",
      "Batch status: in_progress\n",
      "Batch status: in_progress\n",
      "Batch status: in_progress\n",
      "Batch status: in_progress\n",
      "Batch status: in_progress\n",
      "Batch status: in_progress\n",
      "Batch status: in_progress\n",
      "Batch status: in_progress\n",
      "Batch status: in_progress\n",
      "Batch status: in_progress\n",
      "Batch status: in_progress\n",
      "Batch status: in_progress\n",
      "Batch status: in_progress\n",
      "Batch status: in_progress\n",
      "Batch status: in_progress\n",
      "Batch status: in_progress\n",
      "Batch status: in_progress\n",
      "Batch status: in_progress\n",
      "Batch status: in_progress\n",
      "Batch status: in_progress\n",
      "Batch status: in_progress\n",
      "Batch status: in_progress\n",
      "Batch status: in_progress\n",
      "Batch status: in_progress\n",
      "Batch status: in_progress\n",
      "Batch status: in_progress\n",
      "Batch status: in_progress\n",
      "Batch status: in_progress\n",
      "Batch status: in_progress\n",
      "Batch status: in_progress\n",
      "Batch status: in_progress\n",
      "Batch status: in_progress\n",
      "Batch status: in_progress\n",
      "Batch status: in_progress\n",
      "Batch status: in_progress\n",
      "Batch status: in_progress\n",
      "Batch status: in_progress\n",
      "Batch status: in_progress\n",
      "Batch status: in_progress\n",
      "Batch status: in_progress\n",
      "Batch status: in_progress\n",
      "Batch status: in_progress\n",
      "Batch status: in_progress\n",
      "Batch status: in_progress\n",
      "Batch status: in_progress\n",
      "Batch status: in_progress\n",
      "Batch status: in_progress\n",
      "Batch status: in_progress\n",
      "Batch status: in_progress\n",
      "Batch status: in_progress\n",
      "Batch status: in_progress\n",
      "Batch status: in_progress\n",
      "Batch status: in_progress\n",
      "Batch status: in_progress\n",
      "Batch status: in_progress\n",
      "Batch status: in_progress\n",
      "Batch status: in_progress\n",
      "Batch status: in_progress\n",
      "Batch status: in_progress\n",
      "Batch status: finalizing\n",
      "Batch status: finalizing\n",
      "Batch status: finalizing\n",
      "Batch status: finalizing\n",
      "Batch status: finalizing\n",
      "Batch status: finalizing\n",
      "Batch status: finalizing\n",
      "Batch status: finalizing\n",
      "Batch status: finalizing\n",
      "Batch status: finalizing\n",
      "Batch status: finalizing\n",
      "Batch status: finalizing\n",
      "Batch status: finalizing\n",
      "Batch status: finalizing\n",
      "Batch status: finalizing\n",
      "Batch status: finalizing\n",
      "Batch status: finalizing\n",
      "Batch status: finalizing\n",
      "Batch status: finalizing\n",
      "Batch status: finalizing\n",
      "Batch status: finalizing\n",
      "Batch status: finalizing\n",
      "Batch status: finalizing\n",
      "Batch status: finalizing\n",
      "Batch status: finalizing\n",
      "Batch status: finalizing\n",
      "Batch status: finalizing\n",
      "Batch status: completed\n",
      "Processed 15000 results from batch\n",
      "Saved intermediate results to: intermediate_results_7.csv\n",
      "\n",
      "Processing batch 8/10\n",
      "Processing batch file: batch_input_8.jsonl\n",
      "Batch created with ID: batch_67d75ffe0164819090b89bb5364f1735\n",
      "Batch status: validating\n",
      "Batch status: in_progress\n",
      "Batch status: in_progress\n",
      "Batch status: in_progress\n",
      "Batch status: in_progress\n",
      "Batch status: in_progress\n",
      "Batch status: in_progress\n",
      "Batch status: in_progress\n",
      "Batch status: in_progress\n",
      "Batch status: in_progress\n",
      "Batch status: in_progress\n",
      "Batch status: in_progress\n",
      "Batch status: in_progress\n",
      "Batch status: in_progress\n",
      "Batch status: in_progress\n",
      "Batch status: in_progress\n",
      "Batch status: in_progress\n",
      "Batch status: in_progress\n",
      "Batch status: in_progress\n",
      "Batch status: in_progress\n",
      "Batch status: in_progress\n",
      "Batch status: in_progress\n",
      "Batch status: in_progress\n",
      "Batch status: in_progress\n",
      "Batch status: in_progress\n",
      "Batch status: in_progress\n",
      "Batch status: in_progress\n",
      "Batch status: in_progress\n",
      "Batch status: in_progress\n",
      "Batch status: in_progress\n",
      "Batch status: finalizing\n",
      "Batch status: finalizing\n",
      "Batch status: finalizing\n",
      "Batch status: finalizing\n",
      "Batch status: finalizing\n",
      "Batch status: finalizing\n",
      "Batch status: finalizing\n",
      "Batch status: finalizing\n",
      "Batch status: finalizing\n",
      "Batch status: finalizing\n",
      "Batch status: finalizing\n",
      "Batch status: finalizing\n",
      "Batch status: finalizing\n",
      "Batch status: finalizing\n",
      "Batch status: finalizing\n",
      "Batch status: finalizing\n",
      "Batch status: finalizing\n",
      "Batch status: finalizing\n",
      "Batch status: finalizing\n",
      "Batch status: finalizing\n",
      "Batch status: finalizing\n",
      "Batch status: completed\n",
      "Processed 15000 results from batch\n",
      "Saved intermediate results to: intermediate_results_8.csv\n",
      "\n",
      "Processing batch 9/10\n",
      "Processing batch file: batch_input_9.jsonl\n",
      "Batch created with ID: batch_67d76c0bc4dc8190834fbf263648ef69\n",
      "Batch status: validating\n",
      "Batch status: validating\n",
      "Batch status: in_progress\n",
      "Batch status: in_progress\n",
      "Batch status: in_progress\n",
      "Batch status: in_progress\n",
      "Batch status: in_progress\n",
      "Batch status: in_progress\n",
      "Batch status: in_progress\n",
      "Batch status: in_progress\n",
      "Batch status: in_progress\n",
      "Batch status: in_progress\n",
      "Batch status: in_progress\n",
      "Batch status: in_progress\n",
      "Batch status: in_progress\n",
      "Batch status: in_progress\n",
      "Batch status: in_progress\n",
      "Batch status: in_progress\n",
      "Batch status: in_progress\n",
      "Batch status: in_progress\n",
      "Batch status: in_progress\n",
      "Batch status: in_progress\n",
      "Batch status: in_progress\n",
      "Batch status: in_progress\n",
      "Batch status: in_progress\n",
      "Batch status: in_progress\n",
      "Batch status: in_progress\n",
      "Batch status: in_progress\n",
      "Batch status: in_progress\n",
      "Batch status: in_progress\n",
      "Batch status: in_progress\n",
      "Batch status: in_progress\n",
      "Batch status: in_progress\n",
      "Batch status: in_progress\n",
      "Batch status: in_progress\n",
      "Batch status: in_progress\n",
      "Batch status: in_progress\n",
      "Batch status: in_progress\n",
      "Batch status: in_progress\n",
      "Batch status: in_progress\n",
      "Batch status: in_progress\n",
      "Batch status: in_progress\n",
      "Batch status: in_progress\n",
      "Batch status: in_progress\n",
      "Batch status: in_progress\n",
      "Batch status: in_progress\n",
      "Batch status: in_progress\n",
      "Batch status: finalizing\n",
      "Batch status: finalizing\n",
      "Batch status: finalizing\n",
      "Batch status: finalizing\n",
      "Batch status: finalizing\n",
      "Batch status: finalizing\n",
      "Batch status: finalizing\n",
      "Batch status: finalizing\n",
      "Batch status: finalizing\n",
      "Batch status: finalizing\n",
      "Batch status: finalizing\n",
      "Batch status: finalizing\n",
      "Batch status: finalizing\n",
      "Batch status: finalizing\n",
      "Batch status: finalizing\n",
      "Batch status: finalizing\n",
      "Batch status: finalizing\n",
      "Batch status: finalizing\n",
      "Batch status: finalizing\n",
      "Batch status: completed\n",
      "Processed 15000 results from batch\n",
      "Saved intermediate results to: intermediate_results_9.csv\n",
      "\n",
      "Processing batch 10/10\n",
      "Processing batch file: batch_input_10.jsonl\n",
      "Batch created with ID: batch_67d77ba692588190acb9f3318b8a8658\n",
      "Batch status: validating\n",
      "Batch status: in_progress\n",
      "Batch status: in_progress\n",
      "Batch status: in_progress\n",
      "Batch status: in_progress\n",
      "Batch status: in_progress\n",
      "Batch status: in_progress\n",
      "Batch status: in_progress\n",
      "Batch status: in_progress\n",
      "Batch status: in_progress\n",
      "Batch status: in_progress\n",
      "Batch status: in_progress\n",
      "Batch status: in_progress\n",
      "Batch status: in_progress\n",
      "Batch status: in_progress\n",
      "Batch status: in_progress\n",
      "Batch status: in_progress\n",
      "Batch status: in_progress\n",
      "Batch status: in_progress\n",
      "Batch status: in_progress\n",
      "Batch status: in_progress\n",
      "Batch status: in_progress\n",
      "Batch status: in_progress\n",
      "Batch status: in_progress\n",
      "Batch status: in_progress\n",
      "Batch status: in_progress\n",
      "Batch status: in_progress\n",
      "Batch status: in_progress\n",
      "Batch status: in_progress\n",
      "Batch status: in_progress\n",
      "Batch status: in_progress\n",
      "Batch status: in_progress\n",
      "Batch status: in_progress\n",
      "Batch status: in_progress\n",
      "Batch status: in_progress\n",
      "Batch status: in_progress\n",
      "Batch status: in_progress\n",
      "Batch status: in_progress\n",
      "Batch status: in_progress\n",
      "Batch status: in_progress\n",
      "Batch status: in_progress\n",
      "Batch status: in_progress\n",
      "Batch status: in_progress\n",
      "Batch status: in_progress\n",
      "Batch status: in_progress\n",
      "Batch status: in_progress\n",
      "Batch status: in_progress\n",
      "Batch status: in_progress\n",
      "Batch status: in_progress\n",
      "Batch status: in_progress\n",
      "Batch status: in_progress\n",
      "Batch status: in_progress\n",
      "Batch status: in_progress\n",
      "Batch status: in_progress\n",
      "Batch status: in_progress\n",
      "Batch status: in_progress\n",
      "Batch status: in_progress\n",
      "Batch status: in_progress\n",
      "Batch status: in_progress\n",
      "Batch status: in_progress\n",
      "Batch status: in_progress\n",
      "Batch status: in_progress\n",
      "Batch status: in_progress\n",
      "Batch status: in_progress\n",
      "Batch status: in_progress\n",
      "Batch status: in_progress\n",
      "Batch status: in_progress\n",
      "Batch status: in_progress\n",
      "Batch status: in_progress\n",
      "Batch status: in_progress\n",
      "Batch status: in_progress\n",
      "Batch status: in_progress\n",
      "Batch status: in_progress\n",
      "Batch status: in_progress\n",
      "Batch status: in_progress\n",
      "Batch status: in_progress\n",
      "Batch status: in_progress\n",
      "Batch status: in_progress\n",
      "Batch status: in_progress\n",
      "Batch status: in_progress\n",
      "Batch status: in_progress\n",
      "Batch status: in_progress\n",
      "Batch status: in_progress\n",
      "Batch status: in_progress\n",
      "Batch status: in_progress\n",
      "Batch status: in_progress\n",
      "Batch status: in_progress\n",
      "Batch status: in_progress\n",
      "Batch status: in_progress\n",
      "Batch status: in_progress\n",
      "Batch status: in_progress\n",
      "Batch status: in_progress\n",
      "Batch status: in_progress\n",
      "Batch status: in_progress\n",
      "Batch status: in_progress\n",
      "Batch status: in_progress\n",
      "Batch status: in_progress\n",
      "Batch status: in_progress\n",
      "Batch status: in_progress\n",
      "Batch status: in_progress\n",
      "Batch status: in_progress\n",
      "Batch status: in_progress\n",
      "Batch status: in_progress\n",
      "Batch status: in_progress\n",
      "Batch status: in_progress\n",
      "Batch status: in_progress\n",
      "Batch status: in_progress\n",
      "Batch status: in_progress\n",
      "Batch status: in_progress\n",
      "Batch status: in_progress\n",
      "Batch status: in_progress\n",
      "Batch status: in_progress\n",
      "Batch status: in_progress\n",
      "Batch status: in_progress\n",
      "Batch status: in_progress\n",
      "Batch status: in_progress\n",
      "Batch status: in_progress\n",
      "Batch status: in_progress\n",
      "Batch status: in_progress\n",
      "Batch status: in_progress\n",
      "Batch status: in_progress\n",
      "Batch status: in_progress\n",
      "Batch status: in_progress\n",
      "Batch status: in_progress\n",
      "Batch status: in_progress\n",
      "Batch status: in_progress\n",
      "Batch status: in_progress\n",
      "Batch status: in_progress\n",
      "Batch status: in_progress\n",
      "Batch status: in_progress\n",
      "Batch status: in_progress\n",
      "Batch status: in_progress\n",
      "Batch status: in_progress\n",
      "Batch status: in_progress\n",
      "Batch status: in_progress\n",
      "Batch status: in_progress\n",
      "Batch status: in_progress\n",
      "Batch status: in_progress\n",
      "Batch status: in_progress\n",
      "Batch status: in_progress\n",
      "Batch status: in_progress\n",
      "Batch status: in_progress\n",
      "Batch status: in_progress\n",
      "Batch status: in_progress\n",
      "Batch status: in_progress\n",
      "Batch status: in_progress\n",
      "Batch status: in_progress\n",
      "Batch status: in_progress\n",
      "Batch status: in_progress\n",
      "Batch status: in_progress\n",
      "Batch status: in_progress\n",
      "Batch status: in_progress\n",
      "Batch status: in_progress\n",
      "Batch status: in_progress\n",
      "Batch status: in_progress\n",
      "Batch status: in_progress\n",
      "Batch status: in_progress\n",
      "Batch status: in_progress\n",
      "Batch status: in_progress\n",
      "Batch status: in_progress\n",
      "Batch status: in_progress\n",
      "Batch status: in_progress\n",
      "Batch status: in_progress\n",
      "Batch status: in_progress\n",
      "Batch status: in_progress\n",
      "Batch status: in_progress\n",
      "Batch status: in_progress\n",
      "Batch status: in_progress\n",
      "Batch status: in_progress\n",
      "Batch status: in_progress\n",
      "Batch status: in_progress\n",
      "Batch status: in_progress\n",
      "Batch status: in_progress\n",
      "Batch status: in_progress\n",
      "Batch status: in_progress\n",
      "Batch status: finalizing\n",
      "Batch status: finalizing\n",
      "Batch status: finalizing\n",
      "Batch status: finalizing\n",
      "Batch status: finalizing\n",
      "Batch status: finalizing\n",
      "Batch status: finalizing\n",
      "Batch status: finalizing\n",
      "Batch status: finalizing\n",
      "Batch status: finalizing\n",
      "Batch status: finalizing\n",
      "Batch status: finalizing\n",
      "Batch status: finalizing\n",
      "Batch status: finalizing\n",
      "Batch status: finalizing\n",
      "Batch status: finalizing\n",
      "Batch status: finalizing\n",
      "Batch status: finalizing\n",
      "Batch status: finalizing\n",
      "Batch status: finalizing\n",
      "Batch status: finalizing\n",
      "Batch status: finalizing\n",
      "Batch status: completed\n",
      "Processed 9444 results from batch\n",
      "Saved intermediate results to: intermediate_results_10.csv\n"
     ]
    }
   ],
   "source": [
    "#batch_results = process_batch_results('/data/notebook_files/projfiles/input/batch_67b701252b4c8190b77ec9e319c0b008_output.jsonl')\n",
    "\n",
    "all_results = process_all_batches(df, category_dict, user_template, client)\n",
    "\n",
    "# Update DataFrame with final results\n",
    "df['comment_labels'] = df.index.map(lambda x: all_results.get(str(x), []))"
   ]
  },
  {
   "cell_type": "code",
   "execution_count": 14,
   "metadata": {
    "datalore": {
     "hide_input_from_viewers": true,
     "hide_output_from_viewers": true,
     "node_id": "OWGSprFoTiQZogNkyzpGri",
     "type": "CODE"
    }
   },
   "outputs": [
    {
     "name": "stdout",
     "output_type": "stream",
     "text": [
      "Labeling completed and saved to: videos4/projfiles/youtube_comments_labeled.csv\n"
     ]
    }
   ],
   "source": [
    "pd.DataFrame.to_csv(df, LABELED_CSV_PATH)\n",
    "print(\"Labeling completed and saved to:\", LABELED_CSV_PATH)"
   ]
  },
  {
   "cell_type": "markdown",
   "metadata": {},
   "source": [
    "# combine results"
   ]
  },
  {
   "cell_type": "code",
   "execution_count": 31,
   "metadata": {},
   "outputs": [
    {
     "name": "stdout",
     "output_type": "stream",
     "text": [
      "Found 10 intermediate files\n"
     ]
    },
    {
     "name": "stderr",
     "output_type": "stream",
     "text": [
      "/var/folders/b5/hxjnqzqj32l4jyk_bkplnc9w0000gn/T/ipykernel_16566/2015250679.py:21: DtypeWarning: Columns (1) have mixed types. Specify dtype option on import or set low_memory=False.\n",
      "  df = pd.read_csv(file)\n"
     ]
    },
    {
     "name": "stdout",
     "output_type": "stream",
     "text": [
      "Loaded intermediate_results_1.csv\n"
     ]
    },
    {
     "name": "stderr",
     "output_type": "stream",
     "text": [
      "/var/folders/b5/hxjnqzqj32l4jyk_bkplnc9w0000gn/T/ipykernel_16566/2015250679.py:21: DtypeWarning: Columns (1) have mixed types. Specify dtype option on import or set low_memory=False.\n",
      "  df = pd.read_csv(file)\n"
     ]
    },
    {
     "name": "stdout",
     "output_type": "stream",
     "text": [
      "Loaded intermediate_results_10.csv\n"
     ]
    },
    {
     "name": "stderr",
     "output_type": "stream",
     "text": [
      "/var/folders/b5/hxjnqzqj32l4jyk_bkplnc9w0000gn/T/ipykernel_16566/2015250679.py:21: DtypeWarning: Columns (1) have mixed types. Specify dtype option on import or set low_memory=False.\n",
      "  df = pd.read_csv(file)\n"
     ]
    },
    {
     "name": "stdout",
     "output_type": "stream",
     "text": [
      "Loaded intermediate_results_2.csv\n"
     ]
    },
    {
     "name": "stderr",
     "output_type": "stream",
     "text": [
      "/var/folders/b5/hxjnqzqj32l4jyk_bkplnc9w0000gn/T/ipykernel_16566/2015250679.py:21: DtypeWarning: Columns (1) have mixed types. Specify dtype option on import or set low_memory=False.\n",
      "  df = pd.read_csv(file)\n"
     ]
    },
    {
     "name": "stdout",
     "output_type": "stream",
     "text": [
      "Loaded intermediate_results_3.csv\n"
     ]
    },
    {
     "name": "stderr",
     "output_type": "stream",
     "text": [
      "/var/folders/b5/hxjnqzqj32l4jyk_bkplnc9w0000gn/T/ipykernel_16566/2015250679.py:21: DtypeWarning: Columns (1) have mixed types. Specify dtype option on import or set low_memory=False.\n",
      "  df = pd.read_csv(file)\n"
     ]
    },
    {
     "name": "stdout",
     "output_type": "stream",
     "text": [
      "Loaded intermediate_results_4.csv\n"
     ]
    },
    {
     "name": "stderr",
     "output_type": "stream",
     "text": [
      "/var/folders/b5/hxjnqzqj32l4jyk_bkplnc9w0000gn/T/ipykernel_16566/2015250679.py:21: DtypeWarning: Columns (1) have mixed types. Specify dtype option on import or set low_memory=False.\n",
      "  df = pd.read_csv(file)\n"
     ]
    },
    {
     "name": "stdout",
     "output_type": "stream",
     "text": [
      "Loaded intermediate_results_5.csv\n"
     ]
    },
    {
     "name": "stderr",
     "output_type": "stream",
     "text": [
      "/var/folders/b5/hxjnqzqj32l4jyk_bkplnc9w0000gn/T/ipykernel_16566/2015250679.py:21: DtypeWarning: Columns (1) have mixed types. Specify dtype option on import or set low_memory=False.\n",
      "  df = pd.read_csv(file)\n"
     ]
    },
    {
     "name": "stdout",
     "output_type": "stream",
     "text": [
      "Loaded intermediate_results_6.csv\n"
     ]
    },
    {
     "name": "stderr",
     "output_type": "stream",
     "text": [
      "/var/folders/b5/hxjnqzqj32l4jyk_bkplnc9w0000gn/T/ipykernel_16566/2015250679.py:21: DtypeWarning: Columns (1) have mixed types. Specify dtype option on import or set low_memory=False.\n",
      "  df = pd.read_csv(file)\n"
     ]
    },
    {
     "name": "stdout",
     "output_type": "stream",
     "text": [
      "Loaded intermediate_results_7.csv\n"
     ]
    },
    {
     "name": "stderr",
     "output_type": "stream",
     "text": [
      "/var/folders/b5/hxjnqzqj32l4jyk_bkplnc9w0000gn/T/ipykernel_16566/2015250679.py:21: DtypeWarning: Columns (1) have mixed types. Specify dtype option on import or set low_memory=False.\n",
      "  df = pd.read_csv(file)\n"
     ]
    },
    {
     "name": "stdout",
     "output_type": "stream",
     "text": [
      "Loaded intermediate_results_8.csv\n"
     ]
    },
    {
     "name": "stderr",
     "output_type": "stream",
     "text": [
      "/var/folders/b5/hxjnqzqj32l4jyk_bkplnc9w0000gn/T/ipykernel_16566/2015250679.py:21: DtypeWarning: Columns (1) have mixed types. Specify dtype option on import or set low_memory=False.\n",
      "  df = pd.read_csv(file)\n"
     ]
    },
    {
     "name": "stdout",
     "output_type": "stream",
     "text": [
      "Loaded intermediate_results_9.csv\n",
      "Combined DataFrame shape: (152677, 11)\n",
      "Saved combined results to: videos4/projfiles/youtube_comments_labeled.csv\n"
     ]
    }
   ],
   "source": [
    "def combine_intermediate_results():\n",
    "    \"\"\"\n",
    "    Combines all intermediate results files into a single DataFrame.\n",
    "    Assumes files are named 'intermediate_results_X.csv' where X is the batch number.\n",
    "    \"\"\"\n",
    "    import glob\n",
    "    \n",
    "    # Get all intermediate results files\n",
    "    intermediate_files = glob.glob('intermediate_results_*.csv')\n",
    "    \n",
    "    if not intermediate_files:\n",
    "        print(\"No intermediate results files found\")\n",
    "        return None\n",
    "        \n",
    "    print(f\"Found {len(intermediate_files)} intermediate files\")\n",
    "    \n",
    "    # Read and combine all files\n",
    "    dfs = []\n",
    "    for file in sorted(intermediate_files):\n",
    "        try:\n",
    "            df = pd.read_csv(file)\n",
    "            dfs.append(df)\n",
    "            print(f\"Loaded {file}\")\n",
    "        except Exception as e:\n",
    "            print(f\"Error loading {file}: {str(e)}\")\n",
    "    \n",
    "    if not dfs:\n",
    "        print(\"No valid DataFrames to combine\")\n",
    "        return None\n",
    "        \n",
    "    # Combine all DataFrames\n",
    "    combined_df = pd.concat(dfs, ignore_index=True)\n",
    "    \n",
    "    # Remove duplicates if any\n",
    "    combined_df = combined_df.drop_duplicates()\n",
    "    \n",
    "    print(f\"Combined DataFrame shape: {combined_df.shape}\")\n",
    "    \n",
    "    # Save combined results\n",
    "    combined_df.to_csv(LABELED_CSV_PATH, index=False)\n",
    "    print(f\"Saved combined results to: {LABELED_CSV_PATH}\")\n",
    "    \n",
    "    return combined_df\n",
    "\n",
    "# After processing all batches, combine the results:\n",
    "df = combine_intermediate_results()"
   ]
  },
  {
   "attachments": {},
   "cell_type": "markdown",
   "metadata": {
    "datalore": {
     "hide_input_from_viewers": false,
     "hide_output_from_viewers": false,
     "node_id": "tags-process",
     "sheet_delimiter": true,
     "type": "MD"
    }
   },
   "source": [
    "# tags_process"
   ]
  },
  {
   "cell_type": "code",
   "execution_count": 4,
   "metadata": {
    "datalore": {
     "hide_input_from_viewers": true,
     "hide_output_from_viewers": true,
     "node_id": "4Dkxuviknm0UdmT35P608V",
     "type": "CODE"
    }
   },
   "outputs": [],
   "source": [
    "df = pd.read_csv(LABELED_CSV_PATH)\n",
    "df = df.dropna(subset=['source_id'])  # Drop rows where source_id is NaN\n",
    "df['source_id'] = df['source_id'].astype(int)  # Cast to integer\n",
    "import ast  # import ast module for literal evaluation of strings"
   ]
  },
  {
   "cell_type": "code",
   "execution_count": 56,
   "metadata": {
    "datalore": {
     "hide_input_from_viewers": true,
     "hide_output_from_viewers": true,
     "node_id": "648TPFErnoXZtmaCYjao43",
     "type": "CODE"
    }
   },
   "outputs": [],
   "source": [
    "def add_category_indicators(df, category_dict):\n",
    "    \"\"\"\n",
    "    Adds binary indicator columns (1/0) for each category to the input DataFrame.\n",
    "\n",
    "    Args:\n",
    "        df (pd.DataFrame): Input DataFrame with 'comment_labels' column\n",
    "        category_dict (dict): Dictionary defining categories and their codes\n",
    "\n",
    "    Returns:\n",
    "        pd.DataFrame: Original DataFrame with additional binary category columns\n",
    "    \"\"\"\n",
    "    # Create new columns for each category, initialized with 0\n",
    "    for category_name in category_dict.keys():\n",
    "        df[f'has_{category_name}'] = 0\n",
    "    \n",
    "    # Process each row\n",
    "    for idx, row in df.iterrows():\n",
    "        labels_str = row['comment_labels']\n",
    "        labels_list = []\n",
    "        \n",
    "        # Parse the labels\n",
    "        if isinstance(labels_str, str):\n",
    "            try:\n",
    "                labels_list = ast.literal_eval(labels_str)\n",
    "                if not isinstance(labels_list, list):\n",
    "                    labels_list = []\n",
    "            except (ValueError, SyntaxError):\n",
    "                print(f\"Warning: Could not parse comment_labels string: '{labels_str}'. Treating as no labels.\")\n",
    "                labels_list = []\n",
    "        elif isinstance(labels_str, list):\n",
    "            labels_list = labels_str\n",
    "            \n",
    "        # Set indicators for present categories\n",
    "        if isinstance(labels_list, list):\n",
    "            for label in labels_list:\n",
    "                for cat_name, cat_code in category_dict.items():\n",
    "                    if label == cat_code:\n",
    "                        df.at[idx, f'has_{cat_name}'] = 1\n",
    "                        \n",
    "    return df"
   ]
  },
  {
   "cell_type": "code",
   "execution_count": 57,
   "metadata": {
    "datalore": {
     "hide_input_from_viewers": true,
     "hide_output_from_viewers": true,
     "node_id": "DYj3myYijBIg12r4WLmtzM",
     "type": "CODE"
    }
   },
   "outputs": [],
   "source": [
    "# Add binary category indicators\n",
    "df = add_category_indicators(df, category_dict)\n",
    "df.to_csv(LABELED_CSV_PATH, index=False)"
   ]
  },
  {
   "cell_type": "markdown",
   "metadata": {},
   "source": [
    "# CHI2"
   ]
  },
  {
   "cell_type": "code",
   "execution_count": 15,
   "metadata": {},
   "outputs": [],
   "source": [
    "from scipy.stats import chi2_contingency\n",
    "from ast import literal_eval  # converting strings to lists\n",
    "from collections import defaultdict"
   ]
  },
  {
   "cell_type": "code",
   "execution_count": 5,
   "metadata": {},
   "outputs": [],
   "source": [
    "df = pd.read_csv(LABELED_CSV_PATH)"
   ]
  },
  {
   "cell_type": "code",
   "execution_count": 17,
   "metadata": {},
   "outputs": [],
   "source": [
    "def perform_chi_square_test(df, category_dict):\n",
    "    \"\"\"\n",
    "    Performs Chi-square test of independence and calculates Cramér's V for each category across different video sources.\n",
    "    \n",
    "    Args:\n",
    "        df (pd.DataFrame): DataFrame with 'source_id' and binary category columns (has_*)\n",
    "        category_dict (dict): Dictionary defining categories and their codes\n",
    "    \"\"\"\n",
    "    chi_square_results = {}\n",
    "    \n",
    "    # Test each category\n",
    "    for category_name in category_dict.keys():\n",
    "        column_name = f'has_{category_name}'\n",
    "        if column_name not in df.columns:\n",
    "            continue\n",
    "            \n",
    "        # Create contingency table\n",
    "        contingency_table = pd.crosstab(df['source_id'], df[column_name])\n",
    "        \n",
    "        # Perform Chi-square test\n",
    "        try:\n",
    "            chi2, p_value, dof, expected = chi2_contingency(contingency_table)\n",
    "            \n",
    "            # Calculate Cramér's V\n",
    "            n = contingency_table.sum().sum()  # total observations\n",
    "            min_dim = min(contingency_table.shape[0] - 1, contingency_table.shape[1] - 1)\n",
    "            cramers_v = np.sqrt(chi2 / (n * min_dim))\n",
    "            \n",
    "            chi_square_results[category_name] = {\n",
    "                'chi2_statistic': chi2,\n",
    "                'p_value': p_value,\n",
    "                'degrees_of_freedom': dof,\n",
    "                'cramers_v': cramers_v,\n",
    "                'contingency_table': contingency_table\n",
    "            }\n",
    "        except ValueError as e:\n",
    "            chi_square_results[category_name] = {\n",
    "                'chi2_statistic': np.nan,\n",
    "                'p_value': np.nan,\n",
    "                'cramers_v': np.nan,\n",
    "                'error': str(e),\n",
    "                'contingency_table': contingency_table\n",
    "            }\n",
    "    \n",
    "    # Print results\n",
    "    print(\"Chi-square Test Results for Category Distribution across Video Types:\\n\")\n",
    "    for category, result in chi_square_results.items():\n",
    "        print(f\"Category: {category}\")\n",
    "        if 'error' in result:\n",
    "            print(f\"  Error during Chi-square test: {result['error']}\")\n",
    "        else:\n",
    "            print(f\"  Chi-square statistic: {result['chi2_statistic']:.4f}\")\n",
    "            print(f\"  P-value: {result['p_value']:.4f}\")\n",
    "            print(f\"  Degrees of freedom: {result['degrees_of_freedom']}\")\n",
    "            print(f\"  Cramér's V: {result['cramers_v']:.4f}\")\n",
    "            \n",
    "            # Interpret Cramér's V\n",
    "            if result['cramers_v'] < 0.1:\n",
    "                strength = \"negligible\"\n",
    "            elif result['cramers_v'] < 0.2:\n",
    "                strength = \"weak\"\n",
    "            elif result['cramers_v'] < 0.4:\n",
    "                strength = \"moderate\"\n",
    "            else:\n",
    "                strength = \"strong\"\n",
    "            print(f\"  Association strength: {strength}\")\n",
    "            \n",
    "            if result['p_value'] < 0.05:\n",
    "                print(f\"  **Statistically Significant (p < 0.05)**: Reject Null Hypothesis. \"\n",
    "                      f\"Distribution of '{category}' comments is dependent on video types.\")\n",
    "            else:\n",
    "                print(f\"  Not Statistically Significant (p >= 0.05): Fail to Reject Null Hypothesis. \"\n",
    "                      f\"No strong evidence that distribution of '{category}' comments depends on video types.\")\n",
    "            \n",
    "            print(\"\\n  Contingency Table:\")\n",
    "            print(\"    0 = Absent, 1 = Present\")\n",
    "            print(result['contingency_table'])\n",
    "            print(\"-\" * 50)\n",
    "    \n",
    "    return chi_square_results"
   ]
  },
  {
   "cell_type": "code",
   "execution_count": 18,
   "metadata": {},
   "outputs": [
    {
     "name": "stdout",
     "output_type": "stream",
     "text": [
      "Chi-square Test Results for Category Distribution across Video Types:\n",
      "\n",
      "Category: Musical Performance\n",
      "  Chi-square statistic: 40.3837\n",
      "  P-value: 0.0000\n",
      "  Degrees of freedom: 2\n",
      "  Cramér's V: 0.0293\n",
      "  Association strength: negligible\n",
      "  **Statistically Significant (p < 0.05)**: Reject Null Hypothesis. Distribution of 'Musical Performance' comments is dependent on video types.\n",
      "\n",
      "  Contingency Table:\n",
      "    0 = Absent, 1 = Present\n",
      "has_Musical Performance      0    1\n",
      "source_id                          \n",
      "1                        13351   94\n",
      "2                        16521  231\n",
      "3                        16687  242\n",
      "--------------------------------------------------\n",
      "Category: Vocal Performance\n",
      "  Chi-square statistic: 212.2379\n",
      "  P-value: 0.0000\n",
      "  Degrees of freedom: 2\n",
      "  Cramér's V: 0.0671\n",
      "  Association strength: negligible\n",
      "  **Statistically Significant (p < 0.05)**: Reject Null Hypothesis. Distribution of 'Vocal Performance' comments is dependent on video types.\n",
      "\n",
      "  Contingency Table:\n",
      "    0 = Absent, 1 = Present\n",
      "has_Vocal Performance      0     1\n",
      "source_id                         \n",
      "1                      13054   391\n",
      "2                      15652  1100\n",
      "3                      16088   841\n",
      "--------------------------------------------------\n",
      "Category: Music Quality/Production\n",
      "  Chi-square statistic: 46.8541\n",
      "  P-value: 0.0000\n",
      "  Degrees of freedom: 2\n",
      "  Cramér's V: 0.0315\n",
      "  Association strength: negligible\n",
      "  **Statistically Significant (p < 0.05)**: Reject Null Hypothesis. Distribution of 'Music Quality/Production' comments is dependent on video types.\n",
      "\n",
      "  Contingency Table:\n",
      "    0 = Absent, 1 = Present\n",
      "has_Music Quality/Production      0    1\n",
      "source_id                               \n",
      "1                             13270  175\n",
      "2                             16436  316\n",
      "3                             16756  173\n",
      "--------------------------------------------------\n",
      "Category: Visual Performance\n",
      "  Chi-square statistic: 34.0271\n",
      "  P-value: 0.0000\n",
      "  Degrees of freedom: 2\n",
      "  Cramér's V: 0.0269\n",
      "  Association strength: negligible\n",
      "  **Statistically Significant (p < 0.05)**: Reject Null Hypothesis. Distribution of 'Visual Performance' comments is dependent on video types.\n",
      "\n",
      "  Contingency Table:\n",
      "    0 = Absent, 1 = Present\n",
      "has_Visual Performance      0   1\n",
      "source_id                        \n",
      "1                       13437   8\n",
      "2                       16697  55\n",
      "3                       16861  68\n",
      "--------------------------------------------------\n",
      "Category: Stage Presence\n",
      "  Chi-square statistic: 63.5977\n",
      "  P-value: 0.0000\n",
      "  Degrees of freedom: 2\n",
      "  Cramér's V: 0.0367\n",
      "  Association strength: negligible\n",
      "  **Statistically Significant (p < 0.05)**: Reject Null Hypothesis. Distribution of 'Stage Presence' comments is dependent on video types.\n",
      "\n",
      "  Contingency Table:\n",
      "    0 = Absent, 1 = Present\n",
      "has_Stage Presence      0   1\n",
      "source_id                    \n",
      "1                   13442   3\n",
      "2                   16698  54\n",
      "3                   16838  91\n",
      "--------------------------------------------------\n",
      "Category: Gestures\n",
      "  Chi-square statistic: 35.5947\n",
      "  P-value: 0.0000\n",
      "  Degrees of freedom: 2\n",
      "  Cramér's V: 0.0275\n",
      "  Association strength: negligible\n",
      "  **Statistically Significant (p < 0.05)**: Reject Null Hypothesis. Distribution of 'Gestures' comments is dependent on video types.\n",
      "\n",
      "  Contingency Table:\n",
      "    0 = Absent, 1 = Present\n",
      "has_Gestures      0   1\n",
      "source_id              \n",
      "1             13441   4\n",
      "2             16708  44\n",
      "3             16915  14\n",
      "--------------------------------------------------\n",
      "Category: Movement/Choreography\n",
      "  Chi-square statistic: 36.8026\n",
      "  P-value: 0.0000\n",
      "  Degrees of freedom: 2\n",
      "  Cramér's V: 0.0279\n",
      "  Association strength: negligible\n",
      "  **Statistically Significant (p < 0.05)**: Reject Null Hypothesis. Distribution of 'Movement/Choreography' comments is dependent on video types.\n",
      "\n",
      "  Contingency Table:\n",
      "    0 = Absent, 1 = Present\n",
      "has_Movement/Choreography      0   1\n",
      "source_id                           \n",
      "1                          13429  16\n",
      "2                          16684  68\n",
      "3                          16906  23\n",
      "--------------------------------------------------\n",
      "Category: Technical Production\n",
      "  Chi-square statistic: 17.9739\n",
      "  P-value: 0.0001\n",
      "  Degrees of freedom: 2\n",
      "  Cramér's V: 0.0195\n",
      "  Association strength: negligible\n",
      "  **Statistically Significant (p < 0.05)**: Reject Null Hypothesis. Distribution of 'Technical Production' comments is dependent on video types.\n",
      "\n",
      "  Contingency Table:\n",
      "    0 = Absent, 1 = Present\n",
      "has_Technical Production      0   1\n",
      "source_id                          \n",
      "1                         13443   2\n",
      "2                         16733  19\n",
      "3                         16925   4\n",
      "--------------------------------------------------\n",
      "Category: Video Quality\n",
      "  Chi-square statistic: 4.6111\n",
      "  P-value: 0.0997\n",
      "  Degrees of freedom: 2\n",
      "  Cramér's V: 0.0099\n",
      "  Association strength: negligible\n",
      "  Not Statistically Significant (p >= 0.05): Fail to Reject Null Hypothesis. No strong evidence that distribution of 'Video Quality' comments depends on video types.\n",
      "\n",
      "  Contingency Table:\n",
      "    0 = Absent, 1 = Present\n",
      "has_Video Quality      0   1\n",
      "source_id                   \n",
      "1                  13432  13\n",
      "2                  16730  22\n",
      "3                  16919  10\n",
      "--------------------------------------------------\n",
      "Category: Camera Work\n",
      "  Chi-square statistic: 74.0703\n",
      "  P-value: 0.0000\n",
      "  Degrees of freedom: 2\n",
      "  Cramér's V: 0.0396\n",
      "  Association strength: negligible\n",
      "  **Statistically Significant (p < 0.05)**: Reject Null Hypothesis. Distribution of 'Camera Work' comments is dependent on video types.\n",
      "\n",
      "  Contingency Table:\n",
      "    0 = Absent, 1 = Present\n",
      "has_Camera Work      0   1\n",
      "source_id                 \n",
      "1                13445   0\n",
      "2                16699  53\n",
      "3                16922   7\n",
      "--------------------------------------------------\n",
      "Category: Lighting/Light design\n",
      "  Chi-square statistic: 109.9128\n",
      "  P-value: 0.0000\n",
      "  Degrees of freedom: 2\n",
      "  Cramér's V: 0.0483\n",
      "  Association strength: negligible\n",
      "  **Statistically Significant (p < 0.05)**: Reject Null Hypothesis. Distribution of 'Lighting/Light design' comments is dependent on video types.\n",
      "\n",
      "  Contingency Table:\n",
      "    0 = Absent, 1 = Present\n",
      "has_Lighting/Light design      0   1\n",
      "source_id                           \n",
      "1                          13441   4\n",
      "2                          16667  85\n",
      "3                          16919  10\n",
      "--------------------------------------------------\n",
      "Category: Overall Impression - Positive\n",
      "  Chi-square statistic: 11.7700\n",
      "  P-value: 0.0028\n",
      "  Degrees of freedom: 2\n",
      "  Cramér's V: 0.0158\n",
      "  Association strength: negligible\n",
      "  **Statistically Significant (p < 0.05)**: Reject Null Hypothesis. Distribution of 'Overall Impression - Positive' comments is dependent on video types.\n",
      "\n",
      "  Contingency Table:\n",
      "    0 = Absent, 1 = Present\n",
      "has_Overall Impression - Positive      0     1\n",
      "source_id                                     \n",
      "1                                  10777  2668\n",
      "2                                  13441  3311\n",
      "3                                  13797  3132\n",
      "--------------------------------------------------\n",
      "Category: Overall Impression - Negative\n",
      "  Chi-square statistic: 2.5727\n",
      "  P-value: 0.2763\n",
      "  Degrees of freedom: 2\n",
      "  Cramér's V: 0.0074\n",
      "  Association strength: negligible\n",
      "  Not Statistically Significant (p >= 0.05): Fail to Reject Null Hypothesis. No strong evidence that distribution of 'Overall Impression - Negative' comments depends on video types.\n",
      "\n",
      "  Contingency Table:\n",
      "    0 = Absent, 1 = Present\n",
      "has_Overall Impression - Negative      0    1\n",
      "source_id                                    \n",
      "1                                  13138  307\n",
      "2                                  16401  351\n",
      "3                                  16532  397\n",
      "--------------------------------------------------\n",
      "Category: Overall Impression - Neutral\n",
      "  Chi-square statistic: 50.3426\n",
      "  P-value: 0.0000\n",
      "  Degrees of freedom: 2\n",
      "  Cramér's V: 0.0327\n",
      "  Association strength: negligible\n",
      "  **Statistically Significant (p < 0.05)**: Reject Null Hypothesis. Distribution of 'Overall Impression - Neutral' comments is dependent on video types.\n",
      "\n",
      "  Contingency Table:\n",
      "    0 = Absent, 1 = Present\n",
      "has_Overall Impression - Neutral      0    1\n",
      "source_id                                   \n",
      "1                                 13281  164\n",
      "2                                 16654   98\n",
      "3                                 16829  100\n",
      "--------------------------------------------------\n",
      "Category: Visual elements described using musical terms\n",
      "  Chi-square statistic: 68.8072\n",
      "  P-value: 0.0000\n",
      "  Degrees of freedom: 2\n",
      "  Cramér's V: 0.0382\n",
      "  Association strength: negligible\n",
      "  **Statistically Significant (p < 0.05)**: Reject Null Hypothesis. Distribution of 'Visual elements described using musical terms' comments is dependent on video types.\n",
      "\n",
      "  Contingency Table:\n",
      "    0 = Absent, 1 = Present\n",
      "has_Visual elements described using musical terms      0    1\n",
      "source_id                                                    \n",
      "1                                                  13345  100\n",
      "2                                                  16703   49\n",
      "3                                                  16899   30\n",
      "--------------------------------------------------\n",
      "Category: Musical elements described using visual terms\n",
      "  Chi-square statistic: 2.0386\n",
      "  P-value: 0.3608\n",
      "  Degrees of freedom: 2\n",
      "  Cramér's V: 0.0066\n",
      "  Association strength: negligible\n",
      "  Not Statistically Significant (p >= 0.05): Fail to Reject Null Hypothesis. No strong evidence that distribution of 'Musical elements described using visual terms' comments depends on video types.\n",
      "\n",
      "  Contingency Table:\n",
      "    0 = Absent, 1 = Present\n",
      "has_Musical elements described using visual terms      0  1\n",
      "source_id                                                  \n",
      "1                                                  13440  5\n",
      "2                                                  16750  2\n",
      "3                                                  16925  4\n",
      "--------------------------------------------------\n",
      "Category: Engagement/Connection\n",
      "  Chi-square statistic: 30.8838\n",
      "  P-value: 0.0000\n",
      "  Degrees of freedom: 2\n",
      "  Cramér's V: 0.0256\n",
      "  Association strength: negligible\n",
      "  **Statistically Significant (p < 0.05)**: Reject Null Hypothesis. Distribution of 'Engagement/Connection' comments is dependent on video types.\n",
      "\n",
      "  Contingency Table:\n",
      "    0 = Absent, 1 = Present\n",
      "has_Engagement/Connection      0    1\n",
      "source_id                            \n",
      "1                          13200  245\n",
      "2                          16362  390\n",
      "3                          16456  473\n",
      "--------------------------------------------------\n",
      "Category: Personal Connection\n",
      "  Chi-square statistic: 111.9035\n",
      "  P-value: 0.0000\n",
      "  Degrees of freedom: 2\n",
      "  Cramér's V: 0.0487\n",
      "  Association strength: negligible\n",
      "  **Statistically Significant (p < 0.05)**: Reject Null Hypothesis. Distribution of 'Personal Connection' comments is dependent on video types.\n",
      "\n",
      "  Contingency Table:\n",
      "    0 = Absent, 1 = Present\n",
      "has_Personal Connection      0     1\n",
      "source_id                           \n",
      "1                        11913  1532\n",
      "2                        15369  1383\n",
      "3                        15523  1406\n",
      "--------------------------------------------------\n",
      "Category: Artist Connection\n",
      "  Chi-square statistic: 6.5330\n",
      "  P-value: 0.0381\n",
      "  Degrees of freedom: 2\n",
      "  Cramér's V: 0.0118\n",
      "  Association strength: negligible\n",
      "  **Statistically Significant (p < 0.05)**: Reject Null Hypothesis. Distribution of 'Artist Connection' comments is dependent on video types.\n",
      "\n",
      "  Contingency Table:\n",
      "    0 = Absent, 1 = Present\n",
      "has_Artist Connection      0   1\n",
      "source_id                       \n",
      "1                      13437   8\n",
      "2                      16736  16\n",
      "3                      16903  26\n",
      "--------------------------------------------------\n",
      "Category: Olympic games\n",
      "  Chi-square statistic: 10.7038\n",
      "  P-value: 0.0047\n",
      "  Degrees of freedom: 2\n",
      "  Cramér's V: 0.0151\n",
      "  Association strength: negligible\n",
      "  **Statistically Significant (p < 0.05)**: Reject Null Hypothesis. Distribution of 'Olympic games' comments is dependent on video types.\n",
      "\n",
      "  Contingency Table:\n",
      "    0 = Absent, 1 = Present\n",
      "has_Olympic games      0  1\n",
      "source_id                  \n",
      "1                  13445  0\n",
      "2                  16752  0\n",
      "3                  16923  6\n",
      "--------------------------------------------------\n",
      "Category: Implicit Visual Influence\n",
      "  Chi-square statistic: 2.7882\n",
      "  P-value: 0.2481\n",
      "  Degrees of freedom: 2\n",
      "  Cramér's V: 0.0077\n",
      "  Association strength: negligible\n",
      "  Not Statistically Significant (p >= 0.05): Fail to Reject Null Hypothesis. No strong evidence that distribution of 'Implicit Visual Influence' comments depends on video types.\n",
      "\n",
      "  Contingency Table:\n",
      "    0 = Absent, 1 = Present\n",
      "has_Implicit Visual Influence      0  1\n",
      "source_id                              \n",
      "1                              13442  3\n",
      "2                              16749  3\n",
      "3                              16921  8\n",
      "--------------------------------------------------\n",
      "Category: Miscellaneous/Off-Topic\n",
      "  Chi-square statistic: 3.3296\n",
      "  P-value: 0.1892\n",
      "  Degrees of freedom: 2\n",
      "  Cramér's V: 0.0084\n",
      "  Association strength: negligible\n",
      "  Not Statistically Significant (p >= 0.05): Fail to Reject Null Hypothesis. No strong evidence that distribution of 'Miscellaneous/Off-Topic' comments depends on video types.\n",
      "\n",
      "  Contingency Table:\n",
      "    0 = Absent, 1 = Present\n",
      "has_Miscellaneous/Off-Topic      0    1\n",
      "source_id                              \n",
      "1                            13346   99\n",
      "2                            16637  115\n",
      "3                            16832   97\n",
      "--------------------------------------------------\n"
     ]
    }
   ],
   "source": [
    "results = perform_chi_square_test(df, category_dict)"
   ]
  },
  {
   "attachments": {},
   "cell_type": "markdown",
   "metadata": {
    "datalore": {
     "hide_input_from_viewers": false,
     "hide_output_from_viewers": false,
     "node_id": "Kruskal–Wallis test",
     "sheet_delimiter": true,
     "type": "MD"
    }
   },
   "source": [
    "# Kruskal–Wallis test"
   ]
  },
  {
   "cell_type": "code",
   "execution_count": 19,
   "metadata": {
    "datalore": {
     "hide_input_from_viewers": true,
     "hide_output_from_viewers": true,
     "node_id": "DzsVMlG3Z7iQKAP36o1OuD",
     "type": "CODE"
    }
   },
   "outputs": [],
   "source": [
    "from scipy.stats import kruskal"
   ]
  },
  {
   "cell_type": "code",
   "execution_count": 20,
   "metadata": {
    "datalore": {
     "hide_input_from_viewers": true,
     "hide_output_from_viewers": true,
     "node_id": "4snqiwHgTtEjhHbhpJVvUC",
     "type": "CODE"
    }
   },
   "outputs": [],
   "source": [
    "df = pd.read_csv(LABELED_CSV_PATH)"
   ]
  },
  {
   "cell_type": "code",
   "execution_count": 23,
   "metadata": {
    "datalore": {
     "hide_input_from_viewers": true,
     "hide_output_from_viewers": true,
     "node_id": "uT5BITGgmpLXUT2faPKsHw",
     "type": "CODE"
    }
   },
   "outputs": [],
   "source": [
    "from collections import defaultdict\n",
    "import pandas as pd\n",
    "from scipy.stats import kruskal\n",
    "import numpy as np\n",
    "\n",
    "def perform_kruskal_wallis_test(df, category_dict):\n",
    "    \"\"\"\n",
    "    Performs Kruskal-Wallis H-test for each category across different video sources and calculates effect size (Epsilon-squared).\n",
    "\n",
    "    Args:\n",
    "        df (pd.DataFrame): DataFrame with 'source_id' and binary category columns (has_*)\n",
    "        category_dict (dict): Dictionary defining categories and their codes\n",
    "    \"\"\"\n",
    "    kruskal_results = {}\n",
    "\n",
    "    # Test each category\n",
    "    for category_name in category_dict.keys():\n",
    "        column_name = f'has_{category_name}'\n",
    "        if column_name not in df.columns:\n",
    "            continue\n",
    "\n",
    "        # Group data by source_id\n",
    "        category_presence_by_source = defaultdict(list)\n",
    "        for source in sorted(df['source_id'].unique()):\n",
    "            source_data = df[df['source_id'] == source][column_name].tolist()\n",
    "            category_presence_by_source[source] = source_data\n",
    "\n",
    "        # Perform Kruskal-Wallis test\n",
    "        try:\n",
    "            h_statistic, p_value = kruskal(*[category_presence_by_source[s] for s in sorted(df['source_id'].unique())])\n",
    "\n",
    "            # Calculate Effect Size (Epsilon-squared)\n",
    "            k = len(category_presence_by_source) # Number of groups (sources)\n",
    "            N = sum(len(data) for data in category_presence_by_source.values()) # Total sample size\n",
    "            epsilon_squared = (h_statistic - (k - 1)) / (N - k) if (N - k) != 0 else np.nan # Handle potential division by zero\n",
    "\n",
    "\n",
    "            kruskal_results[category_name] = {\n",
    "                'H_statistic': h_statistic,\n",
    "                'p_value': p_value,\n",
    "                'epsilon_squared': epsilon_squared, # Added effect size\n",
    "                'groups_data': category_presence_by_source\n",
    "            }\n",
    "        except ValueError as e:\n",
    "            kruskal_results[category_name] = {\n",
    "                'H_statistic': np.nan,\n",
    "                'p_value': np.nan,\n",
    "                'epsilon_squared': np.nan, # Effect size also NaN in case of error\n",
    "                'error': str(e),\n",
    "                'groups_data': category_presence_by_source\n",
    "            }\n",
    "\n",
    "    # Print results\n",
    "    print(\"Kruskal-Wallis Test Results for Category Distribution across Video Types:\\n\")\n",
    "    for category, result in kruskal_results.items():\n",
    "        print(f\"Category: {category}\")\n",
    "        if 'error' in result:\n",
    "            print(f\"  Error during Kruskal-Wallis test: {result['error']}\")\n",
    "        else:\n",
    "            print(f\"  Kruskal-Wallis H-statistic: {result['H_statistic']:.4f}\")\n",
    "            print(f\"  P-value: {result['p_value']:.4f}\")\n",
    "            print(f\"  Epsilon-squared Effect Size: {result['epsilon_squared']:.4f}\") # Print effect size\n",
    "\n",
    "            # Interpret effect size (rough guidelines)\n",
    "            effect_size_interpretation = \"No effect size calculated\"\n",
    "            if not np.isnan(result['epsilon_squared']):\n",
    "                epsilon_sq = result['epsilon_squared']\n",
    "                if epsilon_sq < 0.01:\n",
    "                    effect_size_interpretation = \"Very small effect\"\n",
    "                elif epsilon_sq < 0.06:\n",
    "                    effect_size_interpretation = \"Small effect\"\n",
    "                elif epsilon_sq < 0.14:\n",
    "                    effect_size_interpretation = \"Medium effect\"\n",
    "                elif epsilon_sq >= 0.14:\n",
    "                    effect_size_interpretation = \"Large effect\"\n",
    "                else:\n",
    "                    effect_size_interpretation = \"No effect size calculated\" # Should not reach here, but for safety\n",
    "\n",
    "            print(f\"  Effect Size Interpretation: {effect_size_interpretation}\")\n",
    "\n",
    "\n",
    "            if result['p_value'] < 0.05:\n",
    "                print(f\"  **Statistically Significant (p < 0.05)**: Reject Null Hypothesis. \"\n",
    "                      f\"Distribution of '{category}' comments differs across video types.\")\n",
    "            else:\n",
    "                print(f\"  Not Statistically Significant (p >= 0.05): Fail to Reject Null Hypothesis. \"\n",
    "                      f\"No strong evidence that distribution of '{category}' comments differs across video types.\")\n",
    "\n",
    "            print(\"\\n  Category Presence Indicators by Source:\")\n",
    "            for source_id, data in result['groups_data'].items():\n",
    "                print(f\"    Source {source_id}:  Present Count = {sum(data)}, \"\n",
    "                      f\"Absent Count = {len(data) - sum(data)}, Total = {len(data)}\")\n",
    "            print(\"-\" * 50)\n",
    "\n",
    "    return kruskal_results"
   ]
  },
  {
   "cell_type": "code",
   "execution_count": 24,
   "metadata": {
    "datalore": {
     "hide_input_from_viewers": true,
     "hide_output_from_viewers": true,
     "node_id": "SC9i4vUrTlx5sKxvoGhXch",
     "type": "CODE"
    }
   },
   "outputs": [
    {
     "name": "stdout",
     "output_type": "stream",
     "text": [
      "Kruskal-Wallis Test Results for Category Distribution across Video Types:\n",
      "\n",
      "Category: Musical Performance\n",
      "  Kruskal-Wallis H-statistic: 40.3828\n",
      "  P-value: 0.0000\n",
      "  Epsilon-squared Effect Size: 0.0008\n",
      "  Effect Size Interpretation: Very small effect\n",
      "  **Statistically Significant (p < 0.05)**: Reject Null Hypothesis. Distribution of 'Musical Performance' comments differs across video types.\n",
      "\n",
      "  Category Presence Indicators by Source:\n",
      "    Source 1:  Present Count = 94, Absent Count = 13351, Total = 13445\n",
      "    Source 2:  Present Count = 231, Absent Count = 16521, Total = 16752\n",
      "    Source 3:  Present Count = 242, Absent Count = 16687, Total = 16929\n",
      "--------------------------------------------------\n",
      "Category: Vocal Performance\n",
      "  Kruskal-Wallis H-statistic: 212.2334\n",
      "  P-value: 0.0000\n",
      "  Epsilon-squared Effect Size: 0.0045\n",
      "  Effect Size Interpretation: Very small effect\n",
      "  **Statistically Significant (p < 0.05)**: Reject Null Hypothesis. Distribution of 'Vocal Performance' comments differs across video types.\n",
      "\n",
      "  Category Presence Indicators by Source:\n",
      "    Source 1:  Present Count = 391, Absent Count = 13054, Total = 13445\n",
      "    Source 2:  Present Count = 1100, Absent Count = 15652, Total = 16752\n",
      "    Source 3:  Present Count = 841, Absent Count = 16088, Total = 16929\n",
      "--------------------------------------------------\n",
      "Category: Music Quality/Production\n",
      "  Kruskal-Wallis H-statistic: 46.8531\n",
      "  P-value: 0.0000\n",
      "  Epsilon-squared Effect Size: 0.0010\n",
      "  Effect Size Interpretation: Very small effect\n",
      "  **Statistically Significant (p < 0.05)**: Reject Null Hypothesis. Distribution of 'Music Quality/Production' comments differs across video types.\n",
      "\n",
      "  Category Presence Indicators by Source:\n",
      "    Source 1:  Present Count = 175, Absent Count = 13270, Total = 13445\n",
      "    Source 2:  Present Count = 316, Absent Count = 16436, Total = 16752\n",
      "    Source 3:  Present Count = 173, Absent Count = 16756, Total = 16929\n",
      "--------------------------------------------------\n",
      "Category: Visual Performance\n",
      "  Kruskal-Wallis H-statistic: 34.0264\n",
      "  P-value: 0.0000\n",
      "  Epsilon-squared Effect Size: 0.0007\n",
      "  Effect Size Interpretation: Very small effect\n",
      "  **Statistically Significant (p < 0.05)**: Reject Null Hypothesis. Distribution of 'Visual Performance' comments differs across video types.\n",
      "\n",
      "  Category Presence Indicators by Source:\n",
      "    Source 1:  Present Count = 8, Absent Count = 13437, Total = 13445\n",
      "    Source 2:  Present Count = 55, Absent Count = 16697, Total = 16752\n",
      "    Source 3:  Present Count = 68, Absent Count = 16861, Total = 16929\n",
      "--------------------------------------------------\n",
      "Category: Stage Presence\n",
      "  Kruskal-Wallis H-statistic: 63.5963\n",
      "  P-value: 0.0000\n",
      "  Epsilon-squared Effect Size: 0.0013\n",
      "  Effect Size Interpretation: Very small effect\n",
      "  **Statistically Significant (p < 0.05)**: Reject Null Hypothesis. Distribution of 'Stage Presence' comments differs across video types.\n",
      "\n",
      "  Category Presence Indicators by Source:\n",
      "    Source 1:  Present Count = 3, Absent Count = 13442, Total = 13445\n",
      "    Source 2:  Present Count = 54, Absent Count = 16698, Total = 16752\n",
      "    Source 3:  Present Count = 91, Absent Count = 16838, Total = 16929\n",
      "--------------------------------------------------\n",
      "Category: Gestures\n",
      "  Kruskal-Wallis H-statistic: 35.5939\n",
      "  P-value: 0.0000\n",
      "  Epsilon-squared Effect Size: 0.0007\n",
      "  Effect Size Interpretation: Very small effect\n",
      "  **Statistically Significant (p < 0.05)**: Reject Null Hypothesis. Distribution of 'Gestures' comments differs across video types.\n",
      "\n",
      "  Category Presence Indicators by Source:\n",
      "    Source 1:  Present Count = 4, Absent Count = 13441, Total = 13445\n",
      "    Source 2:  Present Count = 44, Absent Count = 16708, Total = 16752\n",
      "    Source 3:  Present Count = 14, Absent Count = 16915, Total = 16929\n",
      "--------------------------------------------------\n",
      "Category: Movement/Choreography\n",
      "  Kruskal-Wallis H-statistic: 36.8019\n",
      "  P-value: 0.0000\n",
      "  Epsilon-squared Effect Size: 0.0007\n",
      "  Effect Size Interpretation: Very small effect\n",
      "  **Statistically Significant (p < 0.05)**: Reject Null Hypothesis. Distribution of 'Movement/Choreography' comments differs across video types.\n",
      "\n",
      "  Category Presence Indicators by Source:\n",
      "    Source 1:  Present Count = 16, Absent Count = 13429, Total = 13445\n",
      "    Source 2:  Present Count = 68, Absent Count = 16684, Total = 16752\n",
      "    Source 3:  Present Count = 23, Absent Count = 16906, Total = 16929\n",
      "--------------------------------------------------\n",
      "Category: Technical Production\n",
      "  Kruskal-Wallis H-statistic: 17.9735\n",
      "  P-value: 0.0001\n",
      "  Epsilon-squared Effect Size: 0.0003\n",
      "  Effect Size Interpretation: Very small effect\n",
      "  **Statistically Significant (p < 0.05)**: Reject Null Hypothesis. Distribution of 'Technical Production' comments differs across video types.\n",
      "\n",
      "  Category Presence Indicators by Source:\n",
      "    Source 1:  Present Count = 2, Absent Count = 13443, Total = 13445\n",
      "    Source 2:  Present Count = 19, Absent Count = 16733, Total = 16752\n",
      "    Source 3:  Present Count = 4, Absent Count = 16925, Total = 16929\n",
      "--------------------------------------------------\n",
      "Category: Video Quality\n",
      "  Kruskal-Wallis H-statistic: 4.6110\n",
      "  P-value: 0.0997\n",
      "  Epsilon-squared Effect Size: 0.0001\n",
      "  Effect Size Interpretation: Very small effect\n",
      "  Not Statistically Significant (p >= 0.05): Fail to Reject Null Hypothesis. No strong evidence that distribution of 'Video Quality' comments differs across video types.\n",
      "\n",
      "  Category Presence Indicators by Source:\n",
      "    Source 1:  Present Count = 13, Absent Count = 13432, Total = 13445\n",
      "    Source 2:  Present Count = 22, Absent Count = 16730, Total = 16752\n",
      "    Source 3:  Present Count = 10, Absent Count = 16919, Total = 16929\n",
      "--------------------------------------------------\n",
      "Category: Camera Work\n",
      "  Kruskal-Wallis H-statistic: 74.0687\n",
      "  P-value: 0.0000\n",
      "  Epsilon-squared Effect Size: 0.0015\n",
      "  Effect Size Interpretation: Very small effect\n",
      "  **Statistically Significant (p < 0.05)**: Reject Null Hypothesis. Distribution of 'Camera Work' comments differs across video types.\n",
      "\n",
      "  Category Presence Indicators by Source:\n",
      "    Source 1:  Present Count = 0, Absent Count = 13445, Total = 13445\n",
      "    Source 2:  Present Count = 53, Absent Count = 16699, Total = 16752\n",
      "    Source 3:  Present Count = 7, Absent Count = 16922, Total = 16929\n",
      "--------------------------------------------------\n",
      "Category: Lighting/Light design\n",
      "  Kruskal-Wallis H-statistic: 109.9105\n",
      "  P-value: 0.0000\n",
      "  Epsilon-squared Effect Size: 0.0023\n",
      "  Effect Size Interpretation: Very small effect\n",
      "  **Statistically Significant (p < 0.05)**: Reject Null Hypothesis. Distribution of 'Lighting/Light design' comments differs across video types.\n",
      "\n",
      "  Category Presence Indicators by Source:\n",
      "    Source 1:  Present Count = 4, Absent Count = 13441, Total = 13445\n",
      "    Source 2:  Present Count = 85, Absent Count = 16667, Total = 16752\n",
      "    Source 3:  Present Count = 10, Absent Count = 16919, Total = 16929\n",
      "--------------------------------------------------\n",
      "Category: Overall Impression - Positive\n",
      "  Kruskal-Wallis H-statistic: 11.7698\n",
      "  P-value: 0.0028\n",
      "  Epsilon-squared Effect Size: 0.0002\n",
      "  Effect Size Interpretation: Very small effect\n",
      "  **Statistically Significant (p < 0.05)**: Reject Null Hypothesis. Distribution of 'Overall Impression - Positive' comments differs across video types.\n",
      "\n",
      "  Category Presence Indicators by Source:\n",
      "    Source 1:  Present Count = 2668, Absent Count = 10777, Total = 13445\n",
      "    Source 2:  Present Count = 3311, Absent Count = 13441, Total = 16752\n",
      "    Source 3:  Present Count = 3132, Absent Count = 13797, Total = 16929\n",
      "--------------------------------------------------\n",
      "Category: Overall Impression - Negative\n",
      "  Kruskal-Wallis H-statistic: 2.5727\n",
      "  P-value: 0.2763\n",
      "  Epsilon-squared Effect Size: 0.0000\n",
      "  Effect Size Interpretation: Very small effect\n",
      "  Not Statistically Significant (p >= 0.05): Fail to Reject Null Hypothesis. No strong evidence that distribution of 'Overall Impression - Negative' comments differs across video types.\n",
      "\n",
      "  Category Presence Indicators by Source:\n",
      "    Source 1:  Present Count = 307, Absent Count = 13138, Total = 13445\n",
      "    Source 2:  Present Count = 351, Absent Count = 16401, Total = 16752\n",
      "    Source 3:  Present Count = 397, Absent Count = 16532, Total = 16929\n",
      "--------------------------------------------------\n",
      "Category: Overall Impression - Neutral\n",
      "  Kruskal-Wallis H-statistic: 50.3415\n",
      "  P-value: 0.0000\n",
      "  Epsilon-squared Effect Size: 0.0010\n",
      "  Effect Size Interpretation: Very small effect\n",
      "  **Statistically Significant (p < 0.05)**: Reject Null Hypothesis. Distribution of 'Overall Impression - Neutral' comments differs across video types.\n",
      "\n",
      "  Category Presence Indicators by Source:\n",
      "    Source 1:  Present Count = 164, Absent Count = 13281, Total = 13445\n",
      "    Source 2:  Present Count = 98, Absent Count = 16654, Total = 16752\n",
      "    Source 3:  Present Count = 100, Absent Count = 16829, Total = 16929\n",
      "--------------------------------------------------\n",
      "Category: Visual elements described using musical terms\n",
      "  Kruskal-Wallis H-statistic: 68.8057\n",
      "  P-value: 0.0000\n",
      "  Epsilon-squared Effect Size: 0.0014\n",
      "  Effect Size Interpretation: Very small effect\n",
      "  **Statistically Significant (p < 0.05)**: Reject Null Hypothesis. Distribution of 'Visual elements described using musical terms' comments differs across video types.\n",
      "\n",
      "  Category Presence Indicators by Source:\n",
      "    Source 1:  Present Count = 100, Absent Count = 13345, Total = 13445\n",
      "    Source 2:  Present Count = 49, Absent Count = 16703, Total = 16752\n",
      "    Source 3:  Present Count = 30, Absent Count = 16899, Total = 16929\n",
      "--------------------------------------------------\n",
      "Category: Musical elements described using visual terms\n",
      "  Kruskal-Wallis H-statistic: 2.0386\n",
      "  P-value: 0.3608\n",
      "  Epsilon-squared Effect Size: 0.0000\n",
      "  Effect Size Interpretation: Very small effect\n",
      "  Not Statistically Significant (p >= 0.05): Fail to Reject Null Hypothesis. No strong evidence that distribution of 'Musical elements described using visual terms' comments differs across video types.\n",
      "\n",
      "  Category Presence Indicators by Source:\n",
      "    Source 1:  Present Count = 5, Absent Count = 13440, Total = 13445\n",
      "    Source 2:  Present Count = 2, Absent Count = 16750, Total = 16752\n",
      "    Source 3:  Present Count = 4, Absent Count = 16925, Total = 16929\n",
      "--------------------------------------------------\n",
      "Category: Engagement/Connection\n",
      "  Kruskal-Wallis H-statistic: 30.8831\n",
      "  P-value: 0.0000\n",
      "  Epsilon-squared Effect Size: 0.0006\n",
      "  Effect Size Interpretation: Very small effect\n",
      "  **Statistically Significant (p < 0.05)**: Reject Null Hypothesis. Distribution of 'Engagement/Connection' comments differs across video types.\n",
      "\n",
      "  Category Presence Indicators by Source:\n",
      "    Source 1:  Present Count = 245, Absent Count = 13200, Total = 13445\n",
      "    Source 2:  Present Count = 390, Absent Count = 16362, Total = 16752\n",
      "    Source 3:  Present Count = 473, Absent Count = 16456, Total = 16929\n",
      "--------------------------------------------------\n",
      "Category: Personal Connection\n",
      "  Kruskal-Wallis H-statistic: 111.9011\n",
      "  P-value: 0.0000\n",
      "  Epsilon-squared Effect Size: 0.0023\n",
      "  Effect Size Interpretation: Very small effect\n",
      "  **Statistically Significant (p < 0.05)**: Reject Null Hypothesis. Distribution of 'Personal Connection' comments differs across video types.\n",
      "\n",
      "  Category Presence Indicators by Source:\n",
      "    Source 1:  Present Count = 1532, Absent Count = 11913, Total = 13445\n",
      "    Source 2:  Present Count = 1383, Absent Count = 15369, Total = 16752\n",
      "    Source 3:  Present Count = 1406, Absent Count = 15523, Total = 16929\n",
      "--------------------------------------------------\n",
      "Category: Artist Connection\n",
      "  Kruskal-Wallis H-statistic: 6.5329\n",
      "  P-value: 0.0381\n",
      "  Epsilon-squared Effect Size: 0.0001\n",
      "  Effect Size Interpretation: Very small effect\n",
      "  **Statistically Significant (p < 0.05)**: Reject Null Hypothesis. Distribution of 'Artist Connection' comments differs across video types.\n",
      "\n",
      "  Category Presence Indicators by Source:\n",
      "    Source 1:  Present Count = 8, Absent Count = 13437, Total = 13445\n",
      "    Source 2:  Present Count = 16, Absent Count = 16736, Total = 16752\n",
      "    Source 3:  Present Count = 26, Absent Count = 16903, Total = 16929\n",
      "--------------------------------------------------\n",
      "Category: Olympic games\n",
      "  Kruskal-Wallis H-statistic: 10.7036\n",
      "  P-value: 0.0047\n",
      "  Epsilon-squared Effect Size: 0.0002\n",
      "  Effect Size Interpretation: Very small effect\n",
      "  **Statistically Significant (p < 0.05)**: Reject Null Hypothesis. Distribution of 'Olympic games' comments differs across video types.\n",
      "\n",
      "  Category Presence Indicators by Source:\n",
      "    Source 1:  Present Count = 0, Absent Count = 13445, Total = 13445\n",
      "    Source 2:  Present Count = 0, Absent Count = 16752, Total = 16752\n",
      "    Source 3:  Present Count = 6, Absent Count = 16923, Total = 16929\n",
      "--------------------------------------------------\n",
      "Category: Implicit Visual Influence\n",
      "  Kruskal-Wallis H-statistic: 2.7882\n",
      "  P-value: 0.2481\n",
      "  Epsilon-squared Effect Size: 0.0000\n",
      "  Effect Size Interpretation: Very small effect\n",
      "  Not Statistically Significant (p >= 0.05): Fail to Reject Null Hypothesis. No strong evidence that distribution of 'Implicit Visual Influence' comments differs across video types.\n",
      "\n",
      "  Category Presence Indicators by Source:\n",
      "    Source 1:  Present Count = 3, Absent Count = 13442, Total = 13445\n",
      "    Source 2:  Present Count = 3, Absent Count = 16749, Total = 16752\n",
      "    Source 3:  Present Count = 8, Absent Count = 16921, Total = 16929\n",
      "--------------------------------------------------\n",
      "Category: Miscellaneous/Off-Topic\n",
      "  Kruskal-Wallis H-statistic: 3.3295\n",
      "  P-value: 0.1892\n",
      "  Epsilon-squared Effect Size: 0.0000\n",
      "  Effect Size Interpretation: Very small effect\n",
      "  Not Statistically Significant (p >= 0.05): Fail to Reject Null Hypothesis. No strong evidence that distribution of 'Miscellaneous/Off-Topic' comments differs across video types.\n",
      "\n",
      "  Category Presence Indicators by Source:\n",
      "    Source 1:  Present Count = 99, Absent Count = 13346, Total = 13445\n",
      "    Source 2:  Present Count = 115, Absent Count = 16637, Total = 16752\n",
      "    Source 3:  Present Count = 97, Absent Count = 16832, Total = 16929\n",
      "--------------------------------------------------\n"
     ]
    }
   ],
   "source": [
    "results = perform_kruskal_wallis_test(df, category_dict)"
   ]
  },
  {
   "cell_type": "code",
   "execution_count": 7,
   "metadata": {},
   "outputs": [
    {
     "data": {
      "application/vnd.plotly.v1+json": {
       "config": {
        "plotlyServerURL": "https://plot.ly"
       },
       "data": [
        {
         "hovertemplate": "<b>Source %{text}</b><br>Dimension 1: %{x:.3f}<br>Dimension 2: %{y:.3f}<extra></extra>",
         "marker": {
          "color": "blue",
          "size": 10
         },
         "mode": "markers+text",
         "name": "Video Sources",
         "text": [
          "Source 1",
          "Source 2",
          "Source 3"
         ],
         "textposition": "top center",
         "type": "scatter",
         "x": {
          "bdata": "/N7PMznfBEC6qEWNwkYSwH83VPB85AlA",
          "dtype": "f8"
         },
         "y": {
          "bdata": "Dl9ZzNWPEkCO8nvmN6rBv70/XBJ8GArA",
          "dtype": "f8"
         }
        },
        {
         "hovertemplate": "<b>%{text}</b><br>Dimension 1: %{x:.3f}<br>Dimension 2: %{y:.3f}<extra></extra>",
         "marker": {
          "color": "red",
          "size": 10
         },
         "mode": "markers+text",
         "name": "Categories",
         "text": [
          "Musical Performance",
          "Vocal Performance",
          "Music Quality/Production",
          "Visual Performance",
          "Stage Presence",
          "Gestures",
          "Movement/Choreography",
          "Technical Production",
          "Video Quality",
          "Camera Work",
          "Lighting/Light design",
          "Overall Impression - Positive",
          "Overall Impression - Negative",
          "Overall Impression - Neutral",
          "Visual elements described using musical terms",
          "Musical elements described using visual terms",
          "Engagement/Connection",
          "Personal Connection",
          "Artist Connection",
          "Olympic games",
          "Implicit Visual Influence",
          "Miscellaneous/Off-Topic"
         ],
         "textposition": "top center",
         "type": "scatter",
         "x": {
          "bdata": "VOkGdJV047+X09iRGnTvv+K9/XvNGQDAX93qHdS6+b8cMbcTSDTsP6cGBw63NTXAPwKXVIFTKcCQoPc9xlBDwJt7JF9PnyHAmS3jK1VtQMCuN8KzsWU4wLxs1FjlXqs/aLTakTqS5D87CvQFDosEQNEB0KDrzwpA4vjl4MJ0PED4KfIM50jYP5rnjA5KMNk/Y36hcno5EUD8wcIorjlUQKQ5QgLqRjZAdVoHyZQOsj8=",
          "dtype": "f8"
         },
         "y": {
          "bdata": "lD5msZfcBsD0aNBX4ePwv8kJT4zCqeA/aWAc31RyJ8A/yYqwTLcswIQ0Ad1Ewx7A59tV34SBAcDNOqE3o1kewO11QzKj4xNArxs//xQ2H8DsQi5ijAMQwK3n4ZGINas/KCRbb70pvb9ZclyqfYYSQOW7uCJ5tydAg/64ZDZFNECEnKCz27D1v9UlUeimIOE/eCqmy9xpKsDkVyBoelxcwEm/IWONUzbAkrjlBx5P9T8=",
          "dtype": "f8"
         }
        }
       ],
       "layout": {
        "height": 800,
        "hovermode": "closest",
        "shapes": [
         {
          "line": {
           "color": "black",
           "dash": "dash",
           "width": 1
          },
          "type": "line",
          "x0": -80.90125483531295,
          "x1": 80.90125483531295,
          "y0": 0,
          "y1": 0
         },
         {
          "line": {
           "color": "black",
           "dash": "dash",
           "width": 1
          },
          "type": "line",
          "x0": 0,
          "x1": 0,
          "y0": -20.270361228146168,
          "y1": 20.270361228146168
         }
        ],
        "showlegend": true,
        "template": {
         "data": {
          "pie": [
           {
            "automargin": true,
            "type": "pie"
           }
          ],
          "scatter": [
           {
            "line": {
             "width": 3
            },
            "marker": {
             "size": 9
            },
            "type": "scatter"
           }
          ],
          "scatter3d": [
           {
            "line": {
             "width": 3
            },
            "marker": {
             "size": 9
            },
            "type": "scatter3d"
           }
          ],
          "scattergeo": [
           {
            "line": {
             "width": 3
            },
            "marker": {
             "size": 9
            },
            "type": "scattergeo"
           }
          ],
          "scattergl": [
           {
            "line": {
             "width": 3
            },
            "marker": {
             "size": 9
            },
            "type": "scattergl"
           }
          ],
          "scatterpolar": [
           {
            "line": {
             "width": 3
            },
            "marker": {
             "size": 9
            },
            "type": "scatterpolar"
           }
          ],
          "scatterpolargl": [
           {
            "line": {
             "width": 3
            },
            "marker": {
             "size": 9
            },
            "type": "scatterpolargl"
           }
          ],
          "scatterternary": [
           {
            "line": {
             "width": 3
            },
            "marker": {
             "size": 9
            },
            "type": "scatterternary"
           }
          ],
          "table": [
           {
            "cells": {
             "height": 30
            },
            "header": {
             "height": 36
            },
            "type": "table"
           }
          ]
         },
         "layout": {
          "font": {
           "size": 18
          },
          "xaxis": {
           "title": {
            "standoff": 15
           }
          },
          "yaxis": {
           "title": {
            "standoff": 15
           }
          }
         }
        },
        "title": {
         "text": "Correspondence Analysis: Video Sources and Categories"
        },
        "width": 1000,
        "xaxis": {
         "title": {
          "text": "Dimension 1 (57.8% explained variance)"
         }
        },
        "yaxis": {
         "title": {
          "text": "Dimension 2 (42.2% explained variance)"
         }
        }
       }
      }
     },
     "metadata": {},
     "output_type": "display_data"
    },
    {
     "name": "stdout",
     "output_type": "stream",
     "text": [
      "\n",
      "Correspondence Analysis Results:\n",
      "Total Inertia: 23.0655\n",
      "\n",
      "Explained Variance by Dimension:\n",
      "Dimension 1: 57.8%\n",
      "Dimension 2: 42.2%\n",
      "Dimension 3: 0.0%\n"
     ]
    }
   ],
   "source": [
    "import numpy as np\n",
    "from sklearn.preprocessing import StandardScaler\n",
    "import plotly.graph_objects as go\n",
    "from plotly.subplots import make_subplots\n",
    "from scipy import linalg\n",
    "\n",
    "def perform_correspondence_analysis(df, category_dict):\n",
    "    \"\"\"\n",
    "    Performs Correspondence Analysis on the contingency tables of video sources and categories.\n",
    "    \n",
    "    Args:\n",
    "        df (pd.DataFrame): DataFrame with 'source_id' and binary category columns\n",
    "        category_dict (dict): Dictionary defining categories and their codes\n",
    "    \"\"\"\n",
    "    # Create contingency table for all categories\n",
    "    categories = []\n",
    "    source_ids = sorted(df['source_id'].unique())\n",
    "    \n",
    "    # Initialize the full contingency table\n",
    "    full_contingency = []\n",
    "    \n",
    "    for category_name in category_dict.keys():\n",
    "        column_name = f'has_{category_name}'\n",
    "        if column_name not in df.columns:\n",
    "            continue\n",
    "            \n",
    "        # Create contingency table for this category\n",
    "        contingency = pd.crosstab(df['source_id'], df[column_name])\n",
    "        # We only want the \"present\" column (1)\n",
    "        if 1 in contingency.columns:\n",
    "            full_contingency.append(contingency[1].values)\n",
    "            categories.append(category_name)\n",
    "    \n",
    "    # Convert to numpy array and transpose so categories are columns\n",
    "    N = np.array(full_contingency).T\n",
    "    \n",
    "    # Calculate row and column sums\n",
    "    row_sums = N.sum(axis=1)\n",
    "    col_sums = N.sum(axis=0)\n",
    "    total = N.sum()\n",
    "    \n",
    "    # Calculate expected frequencies\n",
    "    E = np.outer(row_sums, col_sums) / total\n",
    "    \n",
    "    # Calculate the correspondence matrix\n",
    "    P = N / total\n",
    "    row_probs = row_sums / total\n",
    "    col_probs = col_sums / total\n",
    "    \n",
    "    # Calculate the standardized residuals\n",
    "    S = (P - np.outer(row_probs, col_probs)) / np.sqrt(np.outer(row_probs, col_probs))\n",
    "    \n",
    "    # Singular Value Decomposition\n",
    "    row_weights = np.diag(1 / np.sqrt(row_probs))\n",
    "    col_weights = np.diag(1 / np.sqrt(col_probs))\n",
    "    weighted_S = row_weights @ S @ col_weights\n",
    "    U, sigma, Vt = linalg.svd(weighted_S, full_matrices=False)\n",
    "    \n",
    "    # Calculate principal coordinates\n",
    "    row_coords = row_weights @ U @ np.diag(sigma)\n",
    "    col_coords = col_weights @ Vt.T @ np.diag(sigma)\n",
    "    \n",
    "    # Calculate explained variance\n",
    "    total_inertia = np.sum(sigma ** 2)\n",
    "    explained_variance = (sigma ** 2) / total_inertia\n",
    "    \n",
    "    # Create Plotly figure\n",
    "    fig = go.Figure()\n",
    "    \n",
    "    # Add video sources (rows)\n",
    "    fig.add_trace(go.Scatter(\n",
    "        x=row_coords[:, 0],\n",
    "        y=row_coords[:, 1],\n",
    "        mode='markers+text',\n",
    "        name='Video Sources',\n",
    "        text=[f'Source {source}' for source in source_ids],\n",
    "        textposition=\"top center\",\n",
    "        marker=dict(size=10, color='blue'),\n",
    "        hovertemplate='<b>Source %{text}</b><br>' +\n",
    "                      'Dimension 1: %{x:.3f}<br>' +\n",
    "                      'Dimension 2: %{y:.3f}<extra></extra>'\n",
    "    ))\n",
    "    \n",
    "    # Add categories (columns)\n",
    "    fig.add_trace(go.Scatter(\n",
    "        x=col_coords[:, 0],\n",
    "        y=col_coords[:, 1],\n",
    "        mode='markers+text',\n",
    "        name='Categories',\n",
    "        text=categories,\n",
    "        textposition=\"top center\",\n",
    "        marker=dict(size=10, color='red'),\n",
    "        hovertemplate='<b>%{text}</b><br>' +\n",
    "                      'Dimension 1: %{x:.3f}<br>' +\n",
    "                      'Dimension 2: %{y:.3f}<extra></extra>'\n",
    "    ))\n",
    "    \n",
    "    # Update layout\n",
    "    fig.update_layout(\n",
    "        title='Correspondence Analysis: Video Sources and Categories',\n",
    "        xaxis_title=f'Dimension 1 ({explained_variance[0]:.1%} explained variance)',\n",
    "        yaxis_title=f'Dimension 2 ({explained_variance[1]:.1%} explained variance)',\n",
    "        showlegend=True,\n",
    "        hovermode='closest',\n",
    "        width=1000,\n",
    "        height=800,\n",
    "        template='presentation',\n",
    "        shapes=[\n",
    "            # Add zero lines\n",
    "            dict(type=\"line\", x0=-max(abs(row_coords[:, 0].max()), abs(col_coords[:, 0].max())), \n",
    "                 y0=0, x1=max(abs(row_coords[:, 0].max()), abs(col_coords[:, 0].max())), \n",
    "                 y1=0, line=dict(color=\"black\", width=1, dash=\"dash\")),\n",
    "            dict(type=\"line\", x0=0, \n",
    "                 y0=-max(abs(row_coords[:, 1].max()), abs(col_coords[:, 1].max())), \n",
    "                 x1=0, y1=max(abs(row_coords[:, 1].max()), abs(col_coords[:, 1].max())), \n",
    "                 line=dict(color=\"black\", width=1, dash=\"dash\"))\n",
    "        ]\n",
    "    )\n",
    "    \n",
    "    # Show the plot\n",
    "    fig.show()\n",
    "    \n",
    "    # Print additional information\n",
    "    print(\"\\nCorrespondence Analysis Results:\")\n",
    "    print(f\"Total Inertia: {total_inertia:.4f}\")\n",
    "    print(\"\\nExplained Variance by Dimension:\")\n",
    "    for i, var in enumerate(explained_variance):\n",
    "        print(f\"Dimension {i+1}: {var:.1%}\")\n",
    "    \n",
    "    return {\n",
    "        'row_coords': row_coords,\n",
    "        'col_coords': col_coords,\n",
    "        'explained_variance': explained_variance,\n",
    "        'total_inertia': total_inertia,\n",
    "        'categories': categories,\n",
    "        'source_ids': source_ids,\n",
    "        'figure': fig  # Return the figure object for further customization if needed\n",
    "    }\n",
    "\n",
    "# Run the correspondence analysis\n",
    "ca_results = perform_correspondence_analysis(df, category_dict)"
   ]
  },
  {
   "cell_type": "code",
   "execution_count": 11,
   "metadata": {},
   "outputs": [
    {
     "data": {
      "application/vnd.plotly.v1+json": {
       "config": {
        "plotlyServerURL": "https://plot.ly"
       },
       "data": [
        {
         "colorscale": [
          [
           0,
           "rgb(103,0,31)"
          ],
          [
           0.1,
           "rgb(178,24,43)"
          ],
          [
           0.2,
           "rgb(214,96,77)"
          ],
          [
           0.3,
           "rgb(244,165,130)"
          ],
          [
           0.4,
           "rgb(253,219,199)"
          ],
          [
           0.5,
           "rgb(247,247,247)"
          ],
          [
           0.6,
           "rgb(209,229,240)"
          ],
          [
           0.7,
           "rgb(146,197,222)"
          ],
          [
           0.8,
           "rgb(67,147,195)"
          ],
          [
           0.9,
           "rgb(33,102,172)"
          ],
          [
           1,
           "rgb(5,48,97)"
          ]
         ],
         "hoverongaps": false,
         "hovertemplate": "Source: %{y}<br>Category: %{x}<br>Std. Residual: %{z:.2f}<extra></extra>",
         "text": {
          "bdata": "XI/C9ShcGcDNzMzMzMwpwAAAAAAAAPS/w/UoXI/CFsCamZmZmZkcwM3MzMzMzA7A4XoUrkfhCMApXI/C9SgCwJqZmZmZmak/mpmZmZmZE8CamZmZmZkVwFK4HoXrUfw/PQrXo3A92j9cj8L1KFwcQLgehetROCBA16NwPQrX8z8pXI/C9SgTwClcj8L1KCVAXI/C9Shc/7/NzMzMzMz4v+F6FK5H4eK/pHA9Ctej9D/NzMzMzMwEQI/C9ShcDyhAH4XrUbgeGkCkcD0K16P4P7gehetRuM4/UrgehetRF0A9CtejcD0YQOxRuB6F6xBA7FG4HoXr/T+amZmZmRkhQHE9Ctej8CRAKVyPwvUo/D/2KFyPwvX4vwrXo3A9CgvAUrgehetRAsAzMzMzMzPzvwAAAAAAANC/ZmZmZmZmFMCkcD0K16Pgvx+F61G4Hv2/mpmZmZmZ8b/2KFyPwvXgP/YoXI/C9QpAMzMzMzMzwz9cj8L1KFwVwI/C9Shcjw5A9ihcj8L1GUCF61G4HoUBwOF6FK5H4QjApHA9CtejAMC4HoXrUbj+v1yPwvUoXA/AcT0K16NwFcBxPQrXo3ALwLgehetRuPI/ZmZmZmZmCsBmZmZmZmYVwLgehetRuJ4/AAAAAAAAE0BxPQrXo3ATwPYoXI/C9QJAKVyPwvUoCkCPwvUoXI/6PwAAAAAAAPy/",
          "dtype": "f8",
          "shape": "3, 22"
         },
         "textfont": {
          "size": 10
         },
         "texttemplate": "%{text}",
         "type": "heatmap",
         "x": [
          "Musical Performance",
          "Vocal Performance",
          "Music Quality/Production",
          "Visual Performance",
          "Stage Presence",
          "Gestures",
          "Movement/Choreography",
          "Technical Production",
          "Video Quality",
          "Camera Work",
          "Lighting/Light design",
          "Overall Impression - Positive",
          "Overall Impression - Negative",
          "Overall Impression - Neutral",
          "Visual elements described using musical terms",
          "Musical elements described using visual terms",
          "Engagement/Connection",
          "Personal Connection",
          "Artist Connection",
          "Olympic games",
          "Implicit Visual Influence",
          "Miscellaneous/Off-Topic"
         ],
         "y": [
          "Source 1",
          "Source 2",
          "Source 3"
         ],
         "z": {
          "bdata": "7EnrfLlcGcCxoGISbs4pwP6XkbzL/vO/yMccggjEFsAkcYdsF5scwDmYnszG0Q7Ad2IQma/oCMDYjxuH0jACwN4PQdl9Uas/P/uo9qSWE8DukU0UfJsVwAoe9Qa+Xvw/wqzM642F2j/VQQwdR2EcQCh+Jl/COiBAgKXFtk3k8z/61VGajiYTwOfvrDyQJyVAlXXeCwNp/7/WI/GJccP4vwT4X1AY1eK/83ZOnAm19D+5MYmmWcsEQJUPe8rlDShA7ASr+DUeGkAhzFoT0an4P2lk59mDms4/aVGVGoZSF0Cfsoa6LDwYQE+1oo846BBAeP52l0vu/T8P1dieaBghQL1uPdRD8CRAi5HIPr4v/D//NEPfOwH5v/TBsaY6DgvAa3ixandPAsBVOeGFHUHzvydGyLMWac+/5y4U049oFMCf+tUgHMfgvzC7gSSIG/2/N8jJOUGp8b/qd6YoCevgPywN7ETG/gpAPCc2wh2Vwj9V8ScGMloVwMVyLcr4jA5A82aJmSH4GUA73eDceYcBwEMLNsTJ6QjAIW7CtFWdAMBdryb1Iar+v/uQU9lqWQ/AbK3jpGRxFcBh7vZCQmkLwG+a1U7CtPI/4Tv96txtCsDflzFeh2oVwLKYLUbTNJ8/0HZYTeoAE0B+wuIat3UTwBwHY29R9wJAMaSLb2EsCkBfkovjfXv6PwQwGYW77fu/",
          "dtype": "f8",
          "shape": "3, 22"
         },
         "zmid": 0
        }
       ],
       "layout": {
        "height": 400,
        "template": {
         "data": {
          "bar": [
           {
            "error_x": {
             "color": "#2a3f5f"
            },
            "error_y": {
             "color": "#2a3f5f"
            },
            "marker": {
             "line": {
              "color": "#E5ECF6",
              "width": 0.5
             },
             "pattern": {
              "fillmode": "overlay",
              "size": 10,
              "solidity": 0.2
             }
            },
            "type": "bar"
           }
          ],
          "barpolar": [
           {
            "marker": {
             "line": {
              "color": "#E5ECF6",
              "width": 0.5
             },
             "pattern": {
              "fillmode": "overlay",
              "size": 10,
              "solidity": 0.2
             }
            },
            "type": "barpolar"
           }
          ],
          "carpet": [
           {
            "aaxis": {
             "endlinecolor": "#2a3f5f",
             "gridcolor": "white",
             "linecolor": "white",
             "minorgridcolor": "white",
             "startlinecolor": "#2a3f5f"
            },
            "baxis": {
             "endlinecolor": "#2a3f5f",
             "gridcolor": "white",
             "linecolor": "white",
             "minorgridcolor": "white",
             "startlinecolor": "#2a3f5f"
            },
            "type": "carpet"
           }
          ],
          "choropleth": [
           {
            "colorbar": {
             "outlinewidth": 0,
             "ticks": ""
            },
            "type": "choropleth"
           }
          ],
          "contour": [
           {
            "colorbar": {
             "outlinewidth": 0,
             "ticks": ""
            },
            "colorscale": [
             [
              0,
              "#0d0887"
             ],
             [
              0.1111111111111111,
              "#46039f"
             ],
             [
              0.2222222222222222,
              "#7201a8"
             ],
             [
              0.3333333333333333,
              "#9c179e"
             ],
             [
              0.4444444444444444,
              "#bd3786"
             ],
             [
              0.5555555555555556,
              "#d8576b"
             ],
             [
              0.6666666666666666,
              "#ed7953"
             ],
             [
              0.7777777777777778,
              "#fb9f3a"
             ],
             [
              0.8888888888888888,
              "#fdca26"
             ],
             [
              1,
              "#f0f921"
             ]
            ],
            "type": "contour"
           }
          ],
          "contourcarpet": [
           {
            "colorbar": {
             "outlinewidth": 0,
             "ticks": ""
            },
            "type": "contourcarpet"
           }
          ],
          "heatmap": [
           {
            "colorbar": {
             "outlinewidth": 0,
             "ticks": ""
            },
            "colorscale": [
             [
              0,
              "#0d0887"
             ],
             [
              0.1111111111111111,
              "#46039f"
             ],
             [
              0.2222222222222222,
              "#7201a8"
             ],
             [
              0.3333333333333333,
              "#9c179e"
             ],
             [
              0.4444444444444444,
              "#bd3786"
             ],
             [
              0.5555555555555556,
              "#d8576b"
             ],
             [
              0.6666666666666666,
              "#ed7953"
             ],
             [
              0.7777777777777778,
              "#fb9f3a"
             ],
             [
              0.8888888888888888,
              "#fdca26"
             ],
             [
              1,
              "#f0f921"
             ]
            ],
            "type": "heatmap"
           }
          ],
          "histogram": [
           {
            "marker": {
             "pattern": {
              "fillmode": "overlay",
              "size": 10,
              "solidity": 0.2
             }
            },
            "type": "histogram"
           }
          ],
          "histogram2d": [
           {
            "colorbar": {
             "outlinewidth": 0,
             "ticks": ""
            },
            "colorscale": [
             [
              0,
              "#0d0887"
             ],
             [
              0.1111111111111111,
              "#46039f"
             ],
             [
              0.2222222222222222,
              "#7201a8"
             ],
             [
              0.3333333333333333,
              "#9c179e"
             ],
             [
              0.4444444444444444,
              "#bd3786"
             ],
             [
              0.5555555555555556,
              "#d8576b"
             ],
             [
              0.6666666666666666,
              "#ed7953"
             ],
             [
              0.7777777777777778,
              "#fb9f3a"
             ],
             [
              0.8888888888888888,
              "#fdca26"
             ],
             [
              1,
              "#f0f921"
             ]
            ],
            "type": "histogram2d"
           }
          ],
          "histogram2dcontour": [
           {
            "colorbar": {
             "outlinewidth": 0,
             "ticks": ""
            },
            "colorscale": [
             [
              0,
              "#0d0887"
             ],
             [
              0.1111111111111111,
              "#46039f"
             ],
             [
              0.2222222222222222,
              "#7201a8"
             ],
             [
              0.3333333333333333,
              "#9c179e"
             ],
             [
              0.4444444444444444,
              "#bd3786"
             ],
             [
              0.5555555555555556,
              "#d8576b"
             ],
             [
              0.6666666666666666,
              "#ed7953"
             ],
             [
              0.7777777777777778,
              "#fb9f3a"
             ],
             [
              0.8888888888888888,
              "#fdca26"
             ],
             [
              1,
              "#f0f921"
             ]
            ],
            "type": "histogram2dcontour"
           }
          ],
          "mesh3d": [
           {
            "colorbar": {
             "outlinewidth": 0,
             "ticks": ""
            },
            "type": "mesh3d"
           }
          ],
          "parcoords": [
           {
            "line": {
             "colorbar": {
              "outlinewidth": 0,
              "ticks": ""
             }
            },
            "type": "parcoords"
           }
          ],
          "pie": [
           {
            "automargin": true,
            "type": "pie"
           }
          ],
          "scatter": [
           {
            "fillpattern": {
             "fillmode": "overlay",
             "size": 10,
             "solidity": 0.2
            },
            "type": "scatter"
           }
          ],
          "scatter3d": [
           {
            "line": {
             "colorbar": {
              "outlinewidth": 0,
              "ticks": ""
             }
            },
            "marker": {
             "colorbar": {
              "outlinewidth": 0,
              "ticks": ""
             }
            },
            "type": "scatter3d"
           }
          ],
          "scattercarpet": [
           {
            "marker": {
             "colorbar": {
              "outlinewidth": 0,
              "ticks": ""
             }
            },
            "type": "scattercarpet"
           }
          ],
          "scattergeo": [
           {
            "marker": {
             "colorbar": {
              "outlinewidth": 0,
              "ticks": ""
             }
            },
            "type": "scattergeo"
           }
          ],
          "scattergl": [
           {
            "marker": {
             "colorbar": {
              "outlinewidth": 0,
              "ticks": ""
             }
            },
            "type": "scattergl"
           }
          ],
          "scattermap": [
           {
            "marker": {
             "colorbar": {
              "outlinewidth": 0,
              "ticks": ""
             }
            },
            "type": "scattermap"
           }
          ],
          "scattermapbox": [
           {
            "marker": {
             "colorbar": {
              "outlinewidth": 0,
              "ticks": ""
             }
            },
            "type": "scattermapbox"
           }
          ],
          "scatterpolar": [
           {
            "marker": {
             "colorbar": {
              "outlinewidth": 0,
              "ticks": ""
             }
            },
            "type": "scatterpolar"
           }
          ],
          "scatterpolargl": [
           {
            "marker": {
             "colorbar": {
              "outlinewidth": 0,
              "ticks": ""
             }
            },
            "type": "scatterpolargl"
           }
          ],
          "scatterternary": [
           {
            "marker": {
             "colorbar": {
              "outlinewidth": 0,
              "ticks": ""
             }
            },
            "type": "scatterternary"
           }
          ],
          "surface": [
           {
            "colorbar": {
             "outlinewidth": 0,
             "ticks": ""
            },
            "colorscale": [
             [
              0,
              "#0d0887"
             ],
             [
              0.1111111111111111,
              "#46039f"
             ],
             [
              0.2222222222222222,
              "#7201a8"
             ],
             [
              0.3333333333333333,
              "#9c179e"
             ],
             [
              0.4444444444444444,
              "#bd3786"
             ],
             [
              0.5555555555555556,
              "#d8576b"
             ],
             [
              0.6666666666666666,
              "#ed7953"
             ],
             [
              0.7777777777777778,
              "#fb9f3a"
             ],
             [
              0.8888888888888888,
              "#fdca26"
             ],
             [
              1,
              "#f0f921"
             ]
            ],
            "type": "surface"
           }
          ],
          "table": [
           {
            "cells": {
             "fill": {
              "color": "#EBF0F8"
             },
             "line": {
              "color": "white"
             }
            },
            "header": {
             "fill": {
              "color": "#C8D4E3"
             },
             "line": {
              "color": "white"
             }
            },
            "type": "table"
           }
          ]
         },
         "layout": {
          "annotationdefaults": {
           "arrowcolor": "#2a3f5f",
           "arrowhead": 0,
           "arrowwidth": 1
          },
          "autotypenumbers": "strict",
          "coloraxis": {
           "colorbar": {
            "outlinewidth": 0,
            "ticks": ""
           }
          },
          "colorscale": {
           "diverging": [
            [
             0,
             "#8e0152"
            ],
            [
             0.1,
             "#c51b7d"
            ],
            [
             0.2,
             "#de77ae"
            ],
            [
             0.3,
             "#f1b6da"
            ],
            [
             0.4,
             "#fde0ef"
            ],
            [
             0.5,
             "#f7f7f7"
            ],
            [
             0.6,
             "#e6f5d0"
            ],
            [
             0.7,
             "#b8e186"
            ],
            [
             0.8,
             "#7fbc41"
            ],
            [
             0.9,
             "#4d9221"
            ],
            [
             1,
             "#276419"
            ]
           ],
           "sequential": [
            [
             0,
             "#0d0887"
            ],
            [
             0.1111111111111111,
             "#46039f"
            ],
            [
             0.2222222222222222,
             "#7201a8"
            ],
            [
             0.3333333333333333,
             "#9c179e"
            ],
            [
             0.4444444444444444,
             "#bd3786"
            ],
            [
             0.5555555555555556,
             "#d8576b"
            ],
            [
             0.6666666666666666,
             "#ed7953"
            ],
            [
             0.7777777777777778,
             "#fb9f3a"
            ],
            [
             0.8888888888888888,
             "#fdca26"
            ],
            [
             1,
             "#f0f921"
            ]
           ],
           "sequentialminus": [
            [
             0,
             "#0d0887"
            ],
            [
             0.1111111111111111,
             "#46039f"
            ],
            [
             0.2222222222222222,
             "#7201a8"
            ],
            [
             0.3333333333333333,
             "#9c179e"
            ],
            [
             0.4444444444444444,
             "#bd3786"
            ],
            [
             0.5555555555555556,
             "#d8576b"
            ],
            [
             0.6666666666666666,
             "#ed7953"
            ],
            [
             0.7777777777777778,
             "#fb9f3a"
            ],
            [
             0.8888888888888888,
             "#fdca26"
            ],
            [
             1,
             "#f0f921"
            ]
           ]
          },
          "colorway": [
           "#636efa",
           "#EF553B",
           "#00cc96",
           "#ab63fa",
           "#FFA15A",
           "#19d3f3",
           "#FF6692",
           "#B6E880",
           "#FF97FF",
           "#FECB52"
          ],
          "font": {
           "color": "#2a3f5f"
          },
          "geo": {
           "bgcolor": "white",
           "lakecolor": "white",
           "landcolor": "#E5ECF6",
           "showlakes": true,
           "showland": true,
           "subunitcolor": "white"
          },
          "hoverlabel": {
           "align": "left"
          },
          "hovermode": "closest",
          "mapbox": {
           "style": "light"
          },
          "paper_bgcolor": "white",
          "plot_bgcolor": "#E5ECF6",
          "polar": {
           "angularaxis": {
            "gridcolor": "white",
            "linecolor": "white",
            "ticks": ""
           },
           "bgcolor": "#E5ECF6",
           "radialaxis": {
            "gridcolor": "white",
            "linecolor": "white",
            "ticks": ""
           }
          },
          "scene": {
           "xaxis": {
            "backgroundcolor": "#E5ECF6",
            "gridcolor": "white",
            "gridwidth": 2,
            "linecolor": "white",
            "showbackground": true,
            "ticks": "",
            "zerolinecolor": "white"
           },
           "yaxis": {
            "backgroundcolor": "#E5ECF6",
            "gridcolor": "white",
            "gridwidth": 2,
            "linecolor": "white",
            "showbackground": true,
            "ticks": "",
            "zerolinecolor": "white"
           },
           "zaxis": {
            "backgroundcolor": "#E5ECF6",
            "gridcolor": "white",
            "gridwidth": 2,
            "linecolor": "white",
            "showbackground": true,
            "ticks": "",
            "zerolinecolor": "white"
           }
          },
          "shapedefaults": {
           "line": {
            "color": "#2a3f5f"
           }
          },
          "ternary": {
           "aaxis": {
            "gridcolor": "white",
            "linecolor": "white",
            "ticks": ""
           },
           "baxis": {
            "gridcolor": "white",
            "linecolor": "white",
            "ticks": ""
           },
           "bgcolor": "#E5ECF6",
           "caxis": {
            "gridcolor": "white",
            "linecolor": "white",
            "ticks": ""
           }
          },
          "title": {
           "x": 0.05
          },
          "xaxis": {
           "automargin": true,
           "gridcolor": "white",
           "linecolor": "white",
           "ticks": "",
           "title": {
            "standoff": 15
           },
           "zerolinecolor": "white",
           "zerolinewidth": 2
          },
          "yaxis": {
           "automargin": true,
           "gridcolor": "white",
           "linecolor": "white",
           "ticks": "",
           "title": {
            "standoff": 15
           },
           "zerolinecolor": "white",
           "zerolinewidth": 2
          }
         }
        },
        "title": {
         "text": "Standardized Residuals Heatmap: Video Sources vs Categories"
        },
        "width": 1200,
        "xaxis": {
         "tickangle": 45,
         "title": {
          "text": "Categories"
         }
        },
        "yaxis": {
         "title": {
          "text": "Video Sources"
         }
        }
       }
      }
     },
     "metadata": {},
     "output_type": "display_data"
    },
    {
     "name": "stdout",
     "output_type": "stream",
     "text": [
      "\n",
      "Interpretation Guide for Standardized Residuals:\n",
      "* Values > 1.96 or < -1.96 are significant at p < 0.05 level\n",
      "* Values > 2.58 or < -2.58 are significant at p < 0.01 level\n",
      "* Positive values (red): More observations than expected\n",
      "* Negative values (blue): Fewer observations than expected\n",
      "* Values near 0 (white): Observed frequencies close to expected\n"
     ]
    }
   ],
   "source": [
    "def create_standardized_residuals_heatmap(df, category_dict):\n",
    "    \"\"\"\n",
    "    Creates a heatmap of standardized residuals for the contingency tables.\n",
    "    \n",
    "    Args:\n",
    "        df (pd.DataFrame): DataFrame with 'source_id' and binary category columns\n",
    "        category_dict (dict): Dictionary defining categories and their codes\n",
    "    \"\"\"\n",
    "    # Create contingency tables and calculate standardized residuals\n",
    "    categories = []\n",
    "    source_ids = sorted(df['source_id'].unique())\n",
    "    residuals_matrix = []\n",
    "    \n",
    "    for category_name in category_dict.keys():\n",
    "        column_name = f'has_{category_name}'\n",
    "        if column_name not in df.columns:\n",
    "            continue\n",
    "            \n",
    "        # Create contingency table for this category\n",
    "        contingency = pd.crosstab(df['source_id'], df[column_name])\n",
    "        categories.append(category_name)\n",
    "        \n",
    "        # Calculate expected frequencies and standardized residuals\n",
    "        row_sums = contingency.sum(axis=1)\n",
    "        col_sums = contingency.sum(axis=0)\n",
    "        total = contingency.sum().sum()\n",
    "        \n",
    "        # We only want the \"present\" column (1)\n",
    "        if 1 in contingency.columns:\n",
    "            observed = contingency[1].values\n",
    "            expected = (row_sums * col_sums[1]) / total\n",
    "            \n",
    "            # Calculate standardized residuals\n",
    "            std_residuals = (observed - expected) / np.sqrt(expected * (1 - col_sums[1]/total) * (1 - row_sums/total))\n",
    "            residuals_matrix.append(std_residuals)\n",
    "    \n",
    "    # Convert to numpy array and transpose\n",
    "    residuals_matrix = np.array(residuals_matrix).T\n",
    "    \n",
    "    # Create heatmap\n",
    "    fig = go.Figure(data=go.Heatmap(\n",
    "        z=residuals_matrix,\n",
    "        x=categories,\n",
    "        y=[f'Source {id}' for id in source_ids],\n",
    "        colorscale='RdBu',\n",
    "        zmid=0,  # Center the colorscale at 0\n",
    "        text=np.round(residuals_matrix, 2),  # Show values in cells\n",
    "        texttemplate='%{text}',\n",
    "        textfont={\"size\": 10},\n",
    "        hoverongaps=False,\n",
    "        hovertemplate='Source: %{y}<br>Category: %{x}<br>Std. Residual: %{z:.2f}<extra></extra>'\n",
    "    ))\n",
    "    \n",
    "    # Update layout\n",
    "    fig.update_layout(\n",
    "        title='Standardized Residuals Heatmap: Video Sources vs Categories',\n",
    "        xaxis_title='Categories',\n",
    "        yaxis_title='Video Sources',\n",
    "        width=1200,\n",
    "        height=400,\n",
    "        xaxis={'tickangle': 45},  # Rotate category labels for better readability\n",
    "    )\n",
    "    \n",
    "    # Show the plot\n",
    "    fig.show()\n",
    "    \n",
    "    # Print interpretation guide\n",
    "    print(\"\\nInterpretation Guide for Standardized Residuals:\")\n",
    "    print(\"* Values > 1.96 or < -1.96 are significant at p < 0.05 level\")\n",
    "    print(\"* Values > 2.58 or < -2.58 are significant at p < 0.01 level\")\n",
    "    print(\"* Positive values (red): More observations than expected\")\n",
    "    print(\"* Negative values (blue): Fewer observations than expected\")\n",
    "    print(\"* Values near 0 (white): Observed frequencies close to expected\")\n",
    "\n",
    "# Run the analysis\n",
    "create_standardized_residuals_heatmap(df, category_dict)"
   ]
  }
 ],
 "metadata": {
  "datalore": {
   "base_environment": "default",
   "computation_mode": "JUPYTER",
   "package_manager": "pip",
   "packages": [
    {
     "name": "openai",
     "source": "PIP"
    },
    {
     "name": "mplcursors",
     "source": "PIP",
     "version": "0.6"
    },
    {
     "name": "fuzzy-c-means",
     "source": "PIP",
     "version": "1.6.3"
    }
   ],
   "report_row_ids": [],
   "report_tabs": [
    {
     "id": "2ryQPXyaiaytO3HTXoZVwt",
     "name": "Report tab",
     "rows": [
      "WdamQYp5t4n7AQrRbHwBAO",
      "NrkwMz34Muhnvc6j6hhgBh",
      "feyxETL2MwvKME79Ez2zcx",
      "t6OlZoV2LHU4OL2hSxokp5",
      "z86LYFCLhBHFo8I0U5MSny",
      "dJGN6TcKDfW0qkgjdDPmEK",
      "yNzqboE7Kr1KIrgbk8FeaH",
      "P36kV1x6GlwuFyYprmsAl6",
      "KQRiXML38Orw2t4WbKa6Mr"
     ]
    }
   ],
   "version": 4
  },
  "kernelspec": {
   "display_name": "Python 3",
   "language": "python",
   "name": "python3"
  },
  "language_info": {
   "codemirror_mode": {
    "name": "ipython",
    "version": 3
   },
   "file_extension": ".py",
   "mimetype": "text/x-python",
   "name": "python",
   "nbconvert_exporter": "python",
   "pygments_lexer": "ipython3",
   "version": "3.9.6"
  }
 },
 "nbformat": 4,
 "nbformat_minor": 4
}
